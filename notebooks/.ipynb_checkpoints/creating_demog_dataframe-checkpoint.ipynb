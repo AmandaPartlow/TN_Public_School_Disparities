{
 "cells": [
  {
   "cell_type": "code",
   "execution_count": 1,
   "metadata": {},
   "outputs": [],
   "source": [
    "import pandas as pd"
   ]
  },
  {
   "cell_type": "code",
   "execution_count": 4,
   "metadata": {},
   "outputs": [
    {
     "data": {
      "text/html": [
       "<div>\n",
       "<style scoped>\n",
       "    .dataframe tbody tr th:only-of-type {\n",
       "        vertical-align: middle;\n",
       "    }\n",
       "\n",
       "    .dataframe tbody tr th {\n",
       "        vertical-align: top;\n",
       "    }\n",
       "\n",
       "    .dataframe thead th {\n",
       "        text-align: right;\n",
       "    }\n",
       "</style>\n",
       "<table border=\"1\" class=\"dataframe\">\n",
       "  <thead>\n",
       "    <tr style=\"text-align: right;\">\n",
       "      <th></th>\n",
       "      <th>table_id</th>\n",
       "      <th>field_full_name</th>\n",
       "    </tr>\n",
       "  </thead>\n",
       "  <tbody>\n",
       "    <tr>\n",
       "      <th>0</th>\n",
       "      <td>B02001e1</td>\n",
       "      <td>RACE: Total: Total population -- (Estimate)   ...</td>\n",
       "    </tr>\n",
       "    <tr>\n",
       "      <th>1</th>\n",
       "      <td>B02001e10</td>\n",
       "      <td>RACE: Two or more races: Two races excluding S...</td>\n",
       "    </tr>\n",
       "    <tr>\n",
       "      <th>2</th>\n",
       "      <td>B02001e2</td>\n",
       "      <td>RACE: White alone: Total population -- (Estima...</td>\n",
       "    </tr>\n",
       "    <tr>\n",
       "      <th>3</th>\n",
       "      <td>B02001e3</td>\n",
       "      <td>RACE: Black or African American alone: Total p...</td>\n",
       "    </tr>\n",
       "    <tr>\n",
       "      <th>4</th>\n",
       "      <td>B02001e4</td>\n",
       "      <td>RACE: American Indian and Alaska Native alone:...</td>\n",
       "    </tr>\n",
       "  </tbody>\n",
       "</table>\n",
       "</div>"
      ],
      "text/plain": [
       "      table_id                                    field_full_name\n",
       "0  B02001e1     RACE: Total: Total population -- (Estimate)   ...\n",
       "1  B02001e10    RACE: Two or more races: Two races excluding S...\n",
       "2  B02001e2     RACE: White alone: Total population -- (Estima...\n",
       "3  B02001e3     RACE: Black or African American alone: Total p...\n",
       "4  B02001e4     RACE: American Indian and Alaska Native alone:..."
      ]
     },
     "execution_count": 4,
     "metadata": {},
     "output_type": "execute_result"
    }
   ],
   "source": [
    "column_names_ids = pd.read_csv('..\\data\\safegraph_open_census_data\\metadata\\meta_data_working.csv')\n",
    "column_names_ids.head()"
   ]
  },
  {
   "cell_type": "code",
   "execution_count": 6,
   "metadata": {},
   "outputs": [
    {
     "name": "stdout",
     "output_type": "stream",
     "text": [
      "['._cbg_B02.csv', '._cbg_B02.csv', '._cbg_B02.csv', '._cbg_B02.csv', '._cbg_B02.csv', '._cbg_B02.csv', '._cbg_B02.csv', '._cbg_B02.csv', '._cbg_B02.csv', '._cbg_B02.csv', '._cbg_B02.csv', '._cbg_B02.csv', '._cbg_B02.csv', '._cbg_B02.csv', '._cbg_B02.csv', '._cbg_B02.csv', '._cbg_B02.csv', '._cbg_B02.csv', '._cbg_B02.csv', '._cbg_B02.csv', '._cbg_B03.csv', '._cbg_B03.csv', '._cbg_B03.csv', '._cbg_B03.csv', '._cbg_B03.csv', '._cbg_B03.csv', '._cbg_B03.csv', '._cbg_B03.csv', '._cbg_B03.csv', '._cbg_B03.csv', '._cbg_B03.csv', '._cbg_B03.csv', '._cbg_B03.csv', '._cbg_B03.csv', '._cbg_B03.csv', '._cbg_B03.csv', '._cbg_B03.csv', '._cbg_B03.csv', '._cbg_B03.csv', '._cbg_B03.csv', '._cbg_B03.csv', '._cbg_B03.csv', '._cbg_B03.csv', '._cbg_B03.csv', '._cbg_B03.csv', '._cbg_B03.csv', '._cbg_B03.csv', '._cbg_B03.csv', '._cbg_B03.csv', '._cbg_B03.csv', '._cbg_B03.csv', '._cbg_B03.csv', '._cbg_B03.csv', '._cbg_B03.csv', '._cbg_B03.csv', '._cbg_B03.csv', '._cbg_B03.csv', '._cbg_B03.csv', '._cbg_B03.csv', '._cbg_B03.csv', '._cbg_B03.csv', '._cbg_B03.csv', '._cbg_B03.csv', '._cbg_B03.csv', '._cbg_B03.csv', '._cbg_B03.csv', '._cbg_B03.csv', '._cbg_B03.csv', '._cbg_B19.csv', '._cbg_B19.csv', '._cbg_B19.csv', '._cbg_B19.csv', '._cbg_B19.csv', '._cbg_B19.csv', '._cbg_B19.csv', '._cbg_B19.csv', '._cbg_B19.csv', '._cbg_B19.csv', '._cbg_B19.csv', '._cbg_B19.csv', '._cbg_B19.csv', '._cbg_B19.csv', '._cbg_B19.csv', '._cbg_B19.csv', '._cbg_B19.csv', '._cbg_B19.csv', '._cbg_B19.csv', '._cbg_B19.csv', '._cbg_B19.csv', '._cbg_B19.csv', '._cbg_B19.csv', '._cbg_B19.csv', '._cbg_B19.csv', '._cbg_B19.csv', '._cbg_B19.csv', '._cbg_B19.csv', '._cbg_B19.csv', '._cbg_B19.csv', '._cbg_B19.csv', '._cbg_B19.csv', '._cbg_B19.csv', '._cbg_B19.csv', '._cbg_B25.csv', '._cbg_B25.csv', '._cbg_B25.csv', '._cbg_B25.csv', '._cbg_B25.csv', '._cbg_B25.csv', '._cbg_B25.csv', '._cbg_B25.csv', '._cbg_B25.csv', '._cbg_B25.csv', '._cbg_B25.csv', '._cbg_B25.csv', '._cbg_B25.csv', '._cbg_B25.csv', '._cbg_B25.csv', '._cbg_B25.csv', '._cbg_B25.csv', '._cbg_B25.csv', '._cbg_B25.csv', '._cbg_B25.csv', '._cbg_B25.csv', '._cbg_B25.csv', '._cbg_B25.csv', '._cbg_B25.csv', '._cbg_B25.csv', '._cbg_B25.csv', '._cbg_B25.csv', '._cbg_B25.csv', '._cbg_B25.csv', '._cbg_B25.csv', '._cbg_B25.csv', '._cbg_B25.csv', '._cbg_B25.csv', '._cbg_B25.csv', '._cbg_B25.csv', '._cbg_B25.csv', '._cbg_B25.csv', '._cbg_B25.csv', '._cbg_B25.csv', '._cbg_B25.csv', '._cbg_B25.csv', '._cbg_B25.csv', '._cbg_B25.csv', '._cbg_B25.csv', '._cbg_B25.csv', '._cbg_B25.csv', '._cbg_B25.csv', '._cbg_B25.csv', '._cbg_B25.csv', '._cbg_B25.csv', '._cbg_B25.csv', '._cbg_B25.csv', '._cbg_B25.csv', '._cbg_B25.csv', '._cbg_B25.csv', '._cbg_B25.csv', '._cbg_B25.csv', '._cbg_B25.csv', '._cbg_B25.csv', '._cbg_B25.csv', '._cbg_B25.csv', '._cbg_B25.csv', '._cbg_B25.csv', '._cbg_B25.csv', '._cbg_B25.csv', '._cbg_B25.csv', '._cbg_B25.csv', '._cbg_B25.csv', '._cbg_B25.csv', '._cbg_B25.csv', '._cbg_B25.csv', '._cbg_B25.csv', '._cbg_B25.csv', '._cbg_B25.csv', '._cbg_B25.csv', '._cbg_B25.csv', '._cbg_B25.csv', '._cbg_B25.csv', '._cbg_B25.csv', '._cbg_B25.csv', '._cbg_B25.csv', '._cbg_B25.csv', '._cbg_B25.csv', '._cbg_B25.csv', '._cbg_B25.csv', '._cbg_B25.csv', '._cbg_B25.csv', '._cbg_B25.csv', '._cbg_B25.csv', '._cbg_B25.csv', '._cbg_B25.csv', '._cbg_B25.csv', '._cbg_B25.csv', '._cbg_B25.csv', '._cbg_B25.csv', '._cbg_B25.csv', '._cbg_B25.csv', '._cbg_B25.csv', '._cbg_B25.csv', '._cbg_B25.csv', '._cbg_B25.csv', '._cbg_B25.csv', '._cbg_B25.csv', '._cbg_B25.csv', '._cbg_B25.csv', '._cbg_B25.csv', '._cbg_B25.csv', '._cbg_B25.csv', '._cbg_B25.csv', '._cbg_B25.csv', '._cbg_B25.csv', '._cbg_B25.csv', '._cbg_B25.csv', '._cbg_B25.csv', '._cbg_B25.csv', '._cbg_B25.csv', '._cbg_B25.csv', '._cbg_B25.csv', '._cbg_B25.csv', '._cbg_B25.csv', '._cbg_B25.csv', '._cbg_B25.csv', '._cbg_B25.csv', '._cbg_B25.csv', '._cbg_B25.csv', '._cbg_B25.csv', '._cbg_B25.csv', '._cbg_B25.csv']\n"
     ]
    }
   ],
   "source": [
    "column_names = []\n",
    "\n",
    "for index, rows in column_names_ids.iterrows():\n",
    "    \n",
    "    column_list = ('._cbg_' + rows.table_id[0:3] + '.csv')\n",
    "    \n",
    "    column_names.append(column_list)\n",
    "    \n",
    "print(column_names)    "
   ]
  },
  {
   "cell_type": "code",
   "execution_count": 9,
   "metadata": {},
   "outputs": [
    {
     "name": "stdout",
     "output_type": "stream",
     "text": [
      "['._cbg_B25.csv', '._cbg_B03.csv', '._cbg_B02.csv', '._cbg_B19.csv']\n"
     ]
    }
   ],
   "source": [
    "column_names_fin = list(set(column_names))\n",
    "print(column_names_fin)"
   ]
  },
  {
   "cell_type": "code",
   "execution_count": null,
   "metadata": {},
   "outputs": [],
   "source": []
  }
 ],
 "metadata": {
  "kernelspec": {
   "display_name": "Python 3",
   "language": "python",
   "name": "python3"
  },
  "language_info": {
   "codemirror_mode": {
    "name": "ipython",
    "version": 3
   },
   "file_extension": ".py",
   "mimetype": "text/x-python",
   "name": "python",
   "nbconvert_exporter": "python",
   "pygments_lexer": "ipython3",
   "version": "3.7.6"
  }
 },
 "nbformat": 4,
 "nbformat_minor": 4
}
