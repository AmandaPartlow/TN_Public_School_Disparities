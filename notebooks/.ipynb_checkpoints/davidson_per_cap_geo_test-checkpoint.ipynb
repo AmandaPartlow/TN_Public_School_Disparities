{
 "cells": [
  {
   "cell_type": "code",
   "execution_count": 1,
   "metadata": {},
   "outputs": [],
   "source": [
    "import pandas as pd\n",
    "import geopandas as gpd"
   ]
  },
  {
   "cell_type": "code",
   "execution_count": 2,
   "metadata": {},
   "outputs": [],
   "source": [
    "per_cap = gpd.read_file('../data/final_data/davidson_per_cap.geojson')"
   ]
  },
  {
   "cell_type": "code",
   "execution_count": 3,
   "metadata": {},
   "outputs": [
    {
     "data": {
      "text/html": [
       "<div>\n",
       "<style scoped>\n",
       "    .dataframe tbody tr th:only-of-type {\n",
       "        vertical-align: middle;\n",
       "    }\n",
       "\n",
       "    .dataframe tbody tr th {\n",
       "        vertical-align: top;\n",
       "    }\n",
       "\n",
       "    .dataframe thead th {\n",
       "        text-align: right;\n",
       "    }\n",
       "</style>\n",
       "<table border=\"1\" class=\"dataframe\">\n",
       "  <thead>\n",
       "    <tr style=\"text-align: right;\">\n",
       "      <th></th>\n",
       "      <th>census_block_group</th>\n",
       "      <th>income_per_cap</th>\n",
       "      <th>state</th>\n",
       "      <th>county</th>\n",
       "      <th>geometry</th>\n",
       "    </tr>\n",
       "  </thead>\n",
       "  <tbody>\n",
       "    <tr>\n",
       "      <th>0</th>\n",
       "      <td>470370101031</td>\n",
       "      <td>35527.0</td>\n",
       "      <td>TN</td>\n",
       "      <td>Davidson County</td>\n",
       "      <td>MULTIPOLYGON (((-86.91752 36.33976, -86.91747 ...</td>\n",
       "    </tr>\n",
       "    <tr>\n",
       "      <th>1</th>\n",
       "      <td>470370101032</td>\n",
       "      <td>30055.0</td>\n",
       "      <td>TN</td>\n",
       "      <td>Davidson County</td>\n",
       "      <td>MULTIPOLYGON (((-86.88288 36.35786, -86.88219 ...</td>\n",
       "    </tr>\n",
       "    <tr>\n",
       "      <th>2</th>\n",
       "      <td>470370101041</td>\n",
       "      <td>33533.0</td>\n",
       "      <td>TN</td>\n",
       "      <td>Davidson County</td>\n",
       "      <td>MULTIPOLYGON (((-86.89607 36.28446, -86.89606 ...</td>\n",
       "    </tr>\n",
       "    <tr>\n",
       "      <th>3</th>\n",
       "      <td>470370101042</td>\n",
       "      <td>28406.0</td>\n",
       "      <td>TN</td>\n",
       "      <td>Davidson County</td>\n",
       "      <td>MULTIPOLYGON (((-86.97440 36.24991, -86.97244 ...</td>\n",
       "    </tr>\n",
       "    <tr>\n",
       "      <th>4</th>\n",
       "      <td>470370101051</td>\n",
       "      <td>27498.0</td>\n",
       "      <td>TN</td>\n",
       "      <td>Davidson County</td>\n",
       "      <td>MULTIPOLYGON (((-86.87347 36.27968, -86.87345 ...</td>\n",
       "    </tr>\n",
       "  </tbody>\n",
       "</table>\n",
       "</div>"
      ],
      "text/plain": [
       "  census_block_group  income_per_cap state           county  \\\n",
       "0       470370101031         35527.0    TN  Davidson County   \n",
       "1       470370101032         30055.0    TN  Davidson County   \n",
       "2       470370101041         33533.0    TN  Davidson County   \n",
       "3       470370101042         28406.0    TN  Davidson County   \n",
       "4       470370101051         27498.0    TN  Davidson County   \n",
       "\n",
       "                                            geometry  \n",
       "0  MULTIPOLYGON (((-86.91752 36.33976, -86.91747 ...  \n",
       "1  MULTIPOLYGON (((-86.88288 36.35786, -86.88219 ...  \n",
       "2  MULTIPOLYGON (((-86.89607 36.28446, -86.89606 ...  \n",
       "3  MULTIPOLYGON (((-86.97440 36.24991, -86.97244 ...  \n",
       "4  MULTIPOLYGON (((-86.87347 36.27968, -86.87345 ...  "
      ]
     },
     "execution_count": 3,
     "metadata": {},
     "output_type": "execute_result"
    }
   ],
   "source": [
    "per_cap.head()"
   ]
  },
  {
   "cell_type": "code",
   "execution_count": 4,
   "metadata": {},
   "outputs": [
    {
     "data": {
      "text/plain": [
       "(473, 5)"
      ]
     },
     "execution_count": 4,
     "metadata": {},
     "output_type": "execute_result"
    }
   ],
   "source": [
    "per_cap.shape"
   ]
  },
  {
   "cell_type": "code",
   "execution_count": null,
   "metadata": {},
   "outputs": [],
   "source": []
  }
 ],
 "metadata": {
  "kernelspec": {
   "display_name": "Python 3",
   "language": "python",
   "name": "python3"
  },
  "language_info": {
   "codemirror_mode": {
    "name": "ipython",
    "version": 3
   },
   "file_extension": ".py",
   "mimetype": "text/x-python",
   "name": "python",
   "nbconvert_exporter": "python",
   "pygments_lexer": "ipython3",
   "version": "3.7.6"
  }
 },
 "nbformat": 4,
 "nbformat_minor": 4
}
