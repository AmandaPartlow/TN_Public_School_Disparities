{
 "cells": [
  {
   "cell_type": "code",
   "execution_count": 3,
   "metadata": {},
   "outputs": [],
   "source": [
    "import pandas as pd\n",
    "import geopandas as gpd"
   ]
  },
  {
   "cell_type": "code",
   "execution_count": 4,
   "metadata": {},
   "outputs": [],
   "source": [
    "geometry = gpd.read_file('../data/safegraph_open_census_data/geometry/cbg.geojson')"
   ]
  },
  {
   "cell_type": "code",
   "execution_count": 57,
   "metadata": {},
   "outputs": [
    {
     "name": "stdout",
     "output_type": "stream",
     "text": [
      "epsg:4326\n"
     ]
    }
   ],
   "source": [
    "print(geometry.crs)"
   ]
  },
  {
   "cell_type": "code",
   "execution_count": 59,
   "metadata": {},
   "outputs": [
    {
     "name": "stdout",
     "output_type": "stream",
     "text": [
      "EPSG:4326\n"
     ]
    }
   ],
   "source": [
    "geometry.crs = \"EPSG:4326\"\n",
    "print(geometry.crs)"
   ]
  },
  {
   "cell_type": "code",
   "execution_count": 60,
   "metadata": {},
   "outputs": [
    {
     "data": {
      "text/html": [
       "<div>\n",
       "<style scoped>\n",
       "    .dataframe tbody tr th:only-of-type {\n",
       "        vertical-align: middle;\n",
       "    }\n",
       "\n",
       "    .dataframe tbody tr th {\n",
       "        vertical-align: top;\n",
       "    }\n",
       "\n",
       "    .dataframe thead th {\n",
       "        text-align: right;\n",
       "    }\n",
       "</style>\n",
       "<table border=\"1\" class=\"dataframe\">\n",
       "  <thead>\n",
       "    <tr style=\"text-align: right;\">\n",
       "      <th></th>\n",
       "      <th>StateFIPS</th>\n",
       "      <th>CountyFIPS</th>\n",
       "      <th>TractCode</th>\n",
       "      <th>BlockGroup</th>\n",
       "      <th>CensusBlockGroup</th>\n",
       "      <th>State</th>\n",
       "      <th>County</th>\n",
       "      <th>ClassCode</th>\n",
       "      <th>geometry</th>\n",
       "    </tr>\n",
       "  </thead>\n",
       "  <tbody>\n",
       "    <tr>\n",
       "      <th>0</th>\n",
       "      <td>01</td>\n",
       "      <td>081</td>\n",
       "      <td>041600</td>\n",
       "      <td>1</td>\n",
       "      <td>010810416001</td>\n",
       "      <td>AL</td>\n",
       "      <td>Lee County</td>\n",
       "      <td>H1</td>\n",
       "      <td>MULTIPOLYGON (((-85.37282 32.63424, -85.37275 ...</td>\n",
       "    </tr>\n",
       "    <tr>\n",
       "      <th>1</th>\n",
       "      <td>01</td>\n",
       "      <td>081</td>\n",
       "      <td>041600</td>\n",
       "      <td>2</td>\n",
       "      <td>010810416002</td>\n",
       "      <td>AL</td>\n",
       "      <td>Lee County</td>\n",
       "      <td>H1</td>\n",
       "      <td>MULTIPOLYGON (((-85.38346 32.64838, -85.38301 ...</td>\n",
       "    </tr>\n",
       "    <tr>\n",
       "      <th>2</th>\n",
       "      <td>01</td>\n",
       "      <td>081</td>\n",
       "      <td>041700</td>\n",
       "      <td>4</td>\n",
       "      <td>010810417004</td>\n",
       "      <td>AL</td>\n",
       "      <td>Lee County</td>\n",
       "      <td>H1</td>\n",
       "      <td>MULTIPOLYGON (((-85.37139 32.60139, -85.37138 ...</td>\n",
       "    </tr>\n",
       "    <tr>\n",
       "      <th>3</th>\n",
       "      <td>01</td>\n",
       "      <td>073</td>\n",
       "      <td>011107</td>\n",
       "      <td>4</td>\n",
       "      <td>010730111074</td>\n",
       "      <td>AL</td>\n",
       "      <td>Jefferson County</td>\n",
       "      <td>H1</td>\n",
       "      <td>MULTIPOLYGON (((-86.64797 33.59205, -86.64771 ...</td>\n",
       "    </tr>\n",
       "    <tr>\n",
       "      <th>4</th>\n",
       "      <td>01</td>\n",
       "      <td>073</td>\n",
       "      <td>011108</td>\n",
       "      <td>4</td>\n",
       "      <td>010730111084</td>\n",
       "      <td>AL</td>\n",
       "      <td>Jefferson County</td>\n",
       "      <td>H1</td>\n",
       "      <td>MULTIPOLYGON (((-86.65206 33.59869, -86.65204 ...</td>\n",
       "    </tr>\n",
       "  </tbody>\n",
       "</table>\n",
       "</div>"
      ],
      "text/plain": [
       "  StateFIPS CountyFIPS TractCode BlockGroup CensusBlockGroup State  \\\n",
       "0        01        081    041600          1     010810416001    AL   \n",
       "1        01        081    041600          2     010810416002    AL   \n",
       "2        01        081    041700          4     010810417004    AL   \n",
       "3        01        073    011107          4     010730111074    AL   \n",
       "4        01        073    011108          4     010730111084    AL   \n",
       "\n",
       "             County ClassCode  \\\n",
       "0        Lee County        H1   \n",
       "1        Lee County        H1   \n",
       "2        Lee County        H1   \n",
       "3  Jefferson County        H1   \n",
       "4  Jefferson County        H1   \n",
       "\n",
       "                                            geometry  \n",
       "0  MULTIPOLYGON (((-85.37282 32.63424, -85.37275 ...  \n",
       "1  MULTIPOLYGON (((-85.38346 32.64838, -85.38301 ...  \n",
       "2  MULTIPOLYGON (((-85.37139 32.60139, -85.37138 ...  \n",
       "3  MULTIPOLYGON (((-86.64797 33.59205, -86.64771 ...  \n",
       "4  MULTIPOLYGON (((-86.65206 33.59869, -86.65204 ...  "
      ]
     },
     "execution_count": 60,
     "metadata": {},
     "output_type": "execute_result"
    }
   ],
   "source": [
    "geometry.head()"
   ]
  },
  {
   "cell_type": "code",
   "execution_count": 61,
   "metadata": {},
   "outputs": [],
   "source": [
    "per_cap = pd.read_csv('../data/census_data_income_per_cap_2.csv').drop('Unnamed: 0', axis = 1)"
   ]
  },
  {
   "cell_type": "code",
   "execution_count": 62,
   "metadata": {},
   "outputs": [
    {
     "data": {
      "text/html": [
       "<div>\n",
       "<style scoped>\n",
       "    .dataframe tbody tr th:only-of-type {\n",
       "        vertical-align: middle;\n",
       "    }\n",
       "\n",
       "    .dataframe tbody tr th {\n",
       "        vertical-align: top;\n",
       "    }\n",
       "\n",
       "    .dataframe thead th {\n",
       "        text-align: right;\n",
       "    }\n",
       "</style>\n",
       "<table border=\"1\" class=\"dataframe\">\n",
       "  <thead>\n",
       "    <tr style=\"text-align: right;\">\n",
       "      <th></th>\n",
       "      <th>census_block_group</th>\n",
       "      <th>income_per_cap</th>\n",
       "    </tr>\n",
       "  </thead>\n",
       "  <tbody>\n",
       "    <tr>\n",
       "      <th>220328</th>\n",
       "      <td>721537506011</td>\n",
       "      <td>5234.0</td>\n",
       "    </tr>\n",
       "    <tr>\n",
       "      <th>220329</th>\n",
       "      <td>721537506012</td>\n",
       "      <td>9036.0</td>\n",
       "    </tr>\n",
       "    <tr>\n",
       "      <th>220330</th>\n",
       "      <td>721537506013</td>\n",
       "      <td>15248.0</td>\n",
       "    </tr>\n",
       "    <tr>\n",
       "      <th>220331</th>\n",
       "      <td>721537506021</td>\n",
       "      <td>4997.0</td>\n",
       "    </tr>\n",
       "    <tr>\n",
       "      <th>220332</th>\n",
       "      <td>721537506022</td>\n",
       "      <td>5330.0</td>\n",
       "    </tr>\n",
       "  </tbody>\n",
       "</table>\n",
       "</div>"
      ],
      "text/plain": [
       "        census_block_group  income_per_cap\n",
       "220328        721537506011          5234.0\n",
       "220329        721537506012          9036.0\n",
       "220330        721537506013         15248.0\n",
       "220331        721537506021          4997.0\n",
       "220332        721537506022          5330.0"
      ]
     },
     "execution_count": 62,
     "metadata": {},
     "output_type": "execute_result"
    }
   ],
   "source": [
    "per_cap.tail()"
   ]
  },
  {
   "cell_type": "code",
   "execution_count": 63,
   "metadata": {},
   "outputs": [
    {
     "data": {
      "text/plain": [
       "(220333, 2)"
      ]
     },
     "execution_count": 63,
     "metadata": {},
     "output_type": "execute_result"
    }
   ],
   "source": [
    "per_cap.shape"
   ]
  },
  {
   "cell_type": "code",
   "execution_count": 64,
   "metadata": {},
   "outputs": [
    {
     "data": {
      "text/plain": [
       "StateFIPS             object\n",
       "CountyFIPS            object\n",
       "TractCode             object\n",
       "BlockGroup            object\n",
       "CensusBlockGroup      object\n",
       "State                 object\n",
       "County                object\n",
       "ClassCode             object\n",
       "geometry            geometry\n",
       "dtype: object"
      ]
     },
     "execution_count": 64,
     "metadata": {},
     "output_type": "execute_result"
    }
   ],
   "source": [
    "geometry.dtypes"
   ]
  },
  {
   "cell_type": "code",
   "execution_count": 65,
   "metadata": {},
   "outputs": [
    {
     "data": {
      "text/plain": [
       "census_block_group      int64\n",
       "income_per_cap        float64\n",
       "dtype: object"
      ]
     },
     "execution_count": 65,
     "metadata": {},
     "output_type": "execute_result"
    }
   ],
   "source": [
    "per_cap.dtypes"
   ]
  },
  {
   "cell_type": "code",
   "execution_count": 66,
   "metadata": {},
   "outputs": [
    {
     "data": {
      "text/plain": [
       "(220333, 9)"
      ]
     },
     "execution_count": 66,
     "metadata": {},
     "output_type": "execute_result"
    }
   ],
   "source": [
    "geometry.CensusBlockGroup = geometry.CensusBlockGroup.astype(str)\n",
    "geometry.shape"
   ]
  },
  {
   "cell_type": "code",
   "execution_count": 67,
   "metadata": {},
   "outputs": [
    {
     "data": {
      "text/html": [
       "<div>\n",
       "<style scoped>\n",
       "    .dataframe tbody tr th:only-of-type {\n",
       "        vertical-align: middle;\n",
       "    }\n",
       "\n",
       "    .dataframe tbody tr th {\n",
       "        vertical-align: top;\n",
       "    }\n",
       "\n",
       "    .dataframe thead th {\n",
       "        text-align: right;\n",
       "    }\n",
       "</style>\n",
       "<table border=\"1\" class=\"dataframe\">\n",
       "  <thead>\n",
       "    <tr style=\"text-align: right;\">\n",
       "      <th></th>\n",
       "      <th>StateFIPS</th>\n",
       "      <th>CountyFIPS</th>\n",
       "      <th>TractCode</th>\n",
       "      <th>BlockGroup</th>\n",
       "      <th>CensusBlockGroup</th>\n",
       "      <th>State</th>\n",
       "      <th>County</th>\n",
       "      <th>ClassCode</th>\n",
       "      <th>geometry</th>\n",
       "    </tr>\n",
       "  </thead>\n",
       "  <tbody>\n",
       "    <tr>\n",
       "      <th>0</th>\n",
       "      <td>01</td>\n",
       "      <td>081</td>\n",
       "      <td>041600</td>\n",
       "      <td>1</td>\n",
       "      <td>010810416001</td>\n",
       "      <td>AL</td>\n",
       "      <td>Lee County</td>\n",
       "      <td>H1</td>\n",
       "      <td>MULTIPOLYGON (((-85.37282 32.63424, -85.37275 ...</td>\n",
       "    </tr>\n",
       "    <tr>\n",
       "      <th>1</th>\n",
       "      <td>01</td>\n",
       "      <td>081</td>\n",
       "      <td>041600</td>\n",
       "      <td>2</td>\n",
       "      <td>010810416002</td>\n",
       "      <td>AL</td>\n",
       "      <td>Lee County</td>\n",
       "      <td>H1</td>\n",
       "      <td>MULTIPOLYGON (((-85.38346 32.64838, -85.38301 ...</td>\n",
       "    </tr>\n",
       "    <tr>\n",
       "      <th>2</th>\n",
       "      <td>01</td>\n",
       "      <td>081</td>\n",
       "      <td>041700</td>\n",
       "      <td>4</td>\n",
       "      <td>010810417004</td>\n",
       "      <td>AL</td>\n",
       "      <td>Lee County</td>\n",
       "      <td>H1</td>\n",
       "      <td>MULTIPOLYGON (((-85.37139 32.60139, -85.37138 ...</td>\n",
       "    </tr>\n",
       "    <tr>\n",
       "      <th>3</th>\n",
       "      <td>01</td>\n",
       "      <td>073</td>\n",
       "      <td>011107</td>\n",
       "      <td>4</td>\n",
       "      <td>010730111074</td>\n",
       "      <td>AL</td>\n",
       "      <td>Jefferson County</td>\n",
       "      <td>H1</td>\n",
       "      <td>MULTIPOLYGON (((-86.64797 33.59205, -86.64771 ...</td>\n",
       "    </tr>\n",
       "    <tr>\n",
       "      <th>4</th>\n",
       "      <td>01</td>\n",
       "      <td>073</td>\n",
       "      <td>011108</td>\n",
       "      <td>4</td>\n",
       "      <td>010730111084</td>\n",
       "      <td>AL</td>\n",
       "      <td>Jefferson County</td>\n",
       "      <td>H1</td>\n",
       "      <td>MULTIPOLYGON (((-86.65206 33.59869, -86.65204 ...</td>\n",
       "    </tr>\n",
       "  </tbody>\n",
       "</table>\n",
       "</div>"
      ],
      "text/plain": [
       "  StateFIPS CountyFIPS TractCode BlockGroup CensusBlockGroup State  \\\n",
       "0        01        081    041600          1     010810416001    AL   \n",
       "1        01        081    041600          2     010810416002    AL   \n",
       "2        01        081    041700          4     010810417004    AL   \n",
       "3        01        073    011107          4     010730111074    AL   \n",
       "4        01        073    011108          4     010730111084    AL   \n",
       "\n",
       "             County ClassCode  \\\n",
       "0        Lee County        H1   \n",
       "1        Lee County        H1   \n",
       "2        Lee County        H1   \n",
       "3  Jefferson County        H1   \n",
       "4  Jefferson County        H1   \n",
       "\n",
       "                                            geometry  \n",
       "0  MULTIPOLYGON (((-85.37282 32.63424, -85.37275 ...  \n",
       "1  MULTIPOLYGON (((-85.38346 32.64838, -85.38301 ...  \n",
       "2  MULTIPOLYGON (((-85.37139 32.60139, -85.37138 ...  \n",
       "3  MULTIPOLYGON (((-86.64797 33.59205, -86.64771 ...  \n",
       "4  MULTIPOLYGON (((-86.65206 33.59869, -86.65204 ...  "
      ]
     },
     "execution_count": 67,
     "metadata": {},
     "output_type": "execute_result"
    }
   ],
   "source": [
    "geometry.head()"
   ]
  },
  {
   "cell_type": "code",
   "execution_count": 68,
   "metadata": {},
   "outputs": [
    {
     "data": {
      "text/html": [
       "<div>\n",
       "<style scoped>\n",
       "    .dataframe tbody tr th:only-of-type {\n",
       "        vertical-align: middle;\n",
       "    }\n",
       "\n",
       "    .dataframe tbody tr th {\n",
       "        vertical-align: top;\n",
       "    }\n",
       "\n",
       "    .dataframe thead th {\n",
       "        text-align: right;\n",
       "    }\n",
       "</style>\n",
       "<table border=\"1\" class=\"dataframe\">\n",
       "  <thead>\n",
       "    <tr style=\"text-align: right;\">\n",
       "      <th></th>\n",
       "      <th>census_block_group</th>\n",
       "      <th>income_per_cap</th>\n",
       "    </tr>\n",
       "  </thead>\n",
       "  <tbody>\n",
       "    <tr>\n",
       "      <th>0</th>\n",
       "      <td>10010201001</td>\n",
       "      <td>20365.0</td>\n",
       "    </tr>\n",
       "    <tr>\n",
       "      <th>1</th>\n",
       "      <td>10010201002</td>\n",
       "      <td>33336.0</td>\n",
       "    </tr>\n",
       "    <tr>\n",
       "      <th>2</th>\n",
       "      <td>10010202001</td>\n",
       "      <td>17047.0</td>\n",
       "    </tr>\n",
       "    <tr>\n",
       "      <th>3</th>\n",
       "      <td>10010202002</td>\n",
       "      <td>21400.0</td>\n",
       "    </tr>\n",
       "    <tr>\n",
       "      <th>4</th>\n",
       "      <td>10010203001</td>\n",
       "      <td>23106.0</td>\n",
       "    </tr>\n",
       "  </tbody>\n",
       "</table>\n",
       "</div>"
      ],
      "text/plain": [
       "  census_block_group  income_per_cap\n",
       "0        10010201001         20365.0\n",
       "1        10010201002         33336.0\n",
       "2        10010202001         17047.0\n",
       "3        10010202002         21400.0\n",
       "4        10010203001         23106.0"
      ]
     },
     "execution_count": 68,
     "metadata": {},
     "output_type": "execute_result"
    }
   ],
   "source": [
    "per_cap.census_block_group = per_cap.census_block_group.astype(str)\n",
    "per_cap.head()"
   ]
  },
  {
   "cell_type": "code",
   "execution_count": 69,
   "metadata": {},
   "outputs": [
    {
     "data": {
      "text/html": [
       "<div>\n",
       "<style scoped>\n",
       "    .dataframe tbody tr th:only-of-type {\n",
       "        vertical-align: middle;\n",
       "    }\n",
       "\n",
       "    .dataframe tbody tr th {\n",
       "        vertical-align: top;\n",
       "    }\n",
       "\n",
       "    .dataframe thead th {\n",
       "        text-align: right;\n",
       "    }\n",
       "</style>\n",
       "<table border=\"1\" class=\"dataframe\">\n",
       "  <thead>\n",
       "    <tr style=\"text-align: right;\">\n",
       "      <th></th>\n",
       "      <th>census_block_group</th>\n",
       "      <th>income_per_cap</th>\n",
       "      <th>StateFIPS</th>\n",
       "      <th>CountyFIPS</th>\n",
       "      <th>TractCode</th>\n",
       "      <th>BlockGroup</th>\n",
       "      <th>CensusBlockGroup</th>\n",
       "      <th>State</th>\n",
       "      <th>County</th>\n",
       "      <th>ClassCode</th>\n",
       "      <th>geometry</th>\n",
       "    </tr>\n",
       "  </thead>\n",
       "  <tbody>\n",
       "    <tr>\n",
       "      <th>0</th>\n",
       "      <td>100010401001</td>\n",
       "      <td>24302.0</td>\n",
       "      <td>10</td>\n",
       "      <td>001</td>\n",
       "      <td>040100</td>\n",
       "      <td>1</td>\n",
       "      <td>100010401001</td>\n",
       "      <td>DE</td>\n",
       "      <td>Kent County</td>\n",
       "      <td>H1</td>\n",
       "      <td>MULTIPOLYGON (((-75.76002 39.29682, -75.75626 ...</td>\n",
       "    </tr>\n",
       "    <tr>\n",
       "      <th>1</th>\n",
       "      <td>100010401002</td>\n",
       "      <td>27198.0</td>\n",
       "      <td>10</td>\n",
       "      <td>001</td>\n",
       "      <td>040100</td>\n",
       "      <td>2</td>\n",
       "      <td>100010401002</td>\n",
       "      <td>DE</td>\n",
       "      <td>Kent County</td>\n",
       "      <td>H1</td>\n",
       "      <td>MULTIPOLYGON (((-75.75697 39.25807, -75.75652 ...</td>\n",
       "    </tr>\n",
       "    <tr>\n",
       "      <th>2</th>\n",
       "      <td>100010401003</td>\n",
       "      <td>26313.0</td>\n",
       "      <td>10</td>\n",
       "      <td>001</td>\n",
       "      <td>040100</td>\n",
       "      <td>3</td>\n",
       "      <td>100010401003</td>\n",
       "      <td>DE</td>\n",
       "      <td>Kent County</td>\n",
       "      <td>H1</td>\n",
       "      <td>MULTIPOLYGON (((-75.74623 39.20031, -75.74605 ...</td>\n",
       "    </tr>\n",
       "    <tr>\n",
       "      <th>3</th>\n",
       "      <td>100010402011</td>\n",
       "      <td>24056.0</td>\n",
       "      <td>10</td>\n",
       "      <td>001</td>\n",
       "      <td>040201</td>\n",
       "      <td>1</td>\n",
       "      <td>100010402011</td>\n",
       "      <td>DE</td>\n",
       "      <td>Kent County</td>\n",
       "      <td>H1</td>\n",
       "      <td>MULTIPOLYGON (((-75.66581 39.29057, -75.66547 ...</td>\n",
       "    </tr>\n",
       "    <tr>\n",
       "      <th>4</th>\n",
       "      <td>100010402012</td>\n",
       "      <td>27699.0</td>\n",
       "      <td>10</td>\n",
       "      <td>001</td>\n",
       "      <td>040201</td>\n",
       "      <td>2</td>\n",
       "      <td>100010402012</td>\n",
       "      <td>DE</td>\n",
       "      <td>Kent County</td>\n",
       "      <td>H1</td>\n",
       "      <td>MULTIPOLYGON (((-75.62432 39.29380, -75.62427 ...</td>\n",
       "    </tr>\n",
       "  </tbody>\n",
       "</table>\n",
       "</div>"
      ],
      "text/plain": [
       "  census_block_group  income_per_cap StateFIPS CountyFIPS TractCode  \\\n",
       "0       100010401001         24302.0        10        001    040100   \n",
       "1       100010401002         27198.0        10        001    040100   \n",
       "2       100010401003         26313.0        10        001    040100   \n",
       "3       100010402011         24056.0        10        001    040201   \n",
       "4       100010402012         27699.0        10        001    040201   \n",
       "\n",
       "  BlockGroup CensusBlockGroup State       County ClassCode  \\\n",
       "0          1     100010401001    DE  Kent County        H1   \n",
       "1          2     100010401002    DE  Kent County        H1   \n",
       "2          3     100010401003    DE  Kent County        H1   \n",
       "3          1     100010402011    DE  Kent County        H1   \n",
       "4          2     100010402012    DE  Kent County        H1   \n",
       "\n",
       "                                            geometry  \n",
       "0  MULTIPOLYGON (((-75.76002 39.29682, -75.75626 ...  \n",
       "1  MULTIPOLYGON (((-75.75697 39.25807, -75.75652 ...  \n",
       "2  MULTIPOLYGON (((-75.74623 39.20031, -75.74605 ...  \n",
       "3  MULTIPOLYGON (((-75.66581 39.29057, -75.66547 ...  \n",
       "4  MULTIPOLYGON (((-75.62432 39.29380, -75.62427 ...  "
      ]
     },
     "execution_count": 69,
     "metadata": {},
     "output_type": "execute_result"
    }
   ],
   "source": [
    "geo_per_cap = pd.merge(per_cap, geometry, left_on='census_block_group', right_on='CensusBlockGroup')\n",
    "geo_per_cap.head()"
   ]
  },
  {
   "cell_type": "code",
   "execution_count": 70,
   "metadata": {},
   "outputs": [
    {
     "data": {
      "text/plain": [
       "(180707, 11)"
      ]
     },
     "execution_count": 70,
     "metadata": {},
     "output_type": "execute_result"
    }
   ],
   "source": [
    "geo_per_cap.shape"
   ]
  },
  {
   "cell_type": "code",
   "execution_count": 71,
   "metadata": {},
   "outputs": [
    {
     "data": {
      "text/plain": [
       "(4125, 11)"
      ]
     },
     "execution_count": 71,
     "metadata": {},
     "output_type": "execute_result"
    }
   ],
   "source": [
    "TN = geo_per_cap.loc[geo_per_cap['State'] == 'TN']\n",
    "TN.shape"
   ]
  },
  {
   "cell_type": "code",
   "execution_count": 72,
   "metadata": {},
   "outputs": [
    {
     "data": {
      "text/plain": [
       "(473, 11)"
      ]
     },
     "execution_count": 72,
     "metadata": {},
     "output_type": "execute_result"
    }
   ],
   "source": [
    "Davidson_per_cap = TN.loc[TN['County'] == 'Davidson County']\n",
    "Davidson_per_cap.shape"
   ]
  },
  {
   "cell_type": "code",
   "execution_count": 73,
   "metadata": {},
   "outputs": [
    {
     "data": {
      "text/plain": [
       "(4125, 9)"
      ]
     },
     "execution_count": 73,
     "metadata": {},
     "output_type": "execute_result"
    }
   ],
   "source": [
    "TN_test = geometry.loc[geometry['State'] == 'TN']\n",
    "TN_test.shape"
   ]
  },
  {
   "cell_type": "code",
   "execution_count": 74,
   "metadata": {},
   "outputs": [
    {
     "data": {
      "text/plain": [
       "(473, 9)"
      ]
     },
     "execution_count": 74,
     "metadata": {},
     "output_type": "execute_result"
    }
   ],
   "source": [
    "Davidson_test = TN_test.loc[TN_test['County'] == 'Davidson County']\n",
    "Davidson_test.shape"
   ]
  },
  {
   "cell_type": "code",
   "execution_count": 75,
   "metadata": {},
   "outputs": [
    {
     "data": {
      "text/html": [
       "<div>\n",
       "<style scoped>\n",
       "    .dataframe tbody tr th:only-of-type {\n",
       "        vertical-align: middle;\n",
       "    }\n",
       "\n",
       "    .dataframe tbody tr th {\n",
       "        vertical-align: top;\n",
       "    }\n",
       "\n",
       "    .dataframe thead th {\n",
       "        text-align: right;\n",
       "    }\n",
       "</style>\n",
       "<table border=\"1\" class=\"dataframe\">\n",
       "  <thead>\n",
       "    <tr style=\"text-align: right;\">\n",
       "      <th></th>\n",
       "      <th>census_block_group</th>\n",
       "      <th>income_per_cap</th>\n",
       "      <th>StateFIPS</th>\n",
       "      <th>CountyFIPS</th>\n",
       "      <th>TractCode</th>\n",
       "      <th>BlockGroup</th>\n",
       "      <th>CensusBlockGroup</th>\n",
       "      <th>State</th>\n",
       "      <th>County</th>\n",
       "      <th>ClassCode</th>\n",
       "      <th>geometry</th>\n",
       "    </tr>\n",
       "  </thead>\n",
       "  <tbody>\n",
       "    <tr>\n",
       "      <th>139858</th>\n",
       "      <td>470370101031</td>\n",
       "      <td>35527.0</td>\n",
       "      <td>47</td>\n",
       "      <td>037</td>\n",
       "      <td>010103</td>\n",
       "      <td>1</td>\n",
       "      <td>470370101031</td>\n",
       "      <td>TN</td>\n",
       "      <td>Davidson County</td>\n",
       "      <td>H6</td>\n",
       "      <td>MULTIPOLYGON (((-86.91752 36.33976, -86.91747 ...</td>\n",
       "    </tr>\n",
       "    <tr>\n",
       "      <th>139859</th>\n",
       "      <td>470370101032</td>\n",
       "      <td>30055.0</td>\n",
       "      <td>47</td>\n",
       "      <td>037</td>\n",
       "      <td>010103</td>\n",
       "      <td>2</td>\n",
       "      <td>470370101032</td>\n",
       "      <td>TN</td>\n",
       "      <td>Davidson County</td>\n",
       "      <td>H6</td>\n",
       "      <td>MULTIPOLYGON (((-86.88288 36.35786, -86.88219 ...</td>\n",
       "    </tr>\n",
       "    <tr>\n",
       "      <th>139860</th>\n",
       "      <td>470370101041</td>\n",
       "      <td>33533.0</td>\n",
       "      <td>47</td>\n",
       "      <td>037</td>\n",
       "      <td>010104</td>\n",
       "      <td>1</td>\n",
       "      <td>470370101041</td>\n",
       "      <td>TN</td>\n",
       "      <td>Davidson County</td>\n",
       "      <td>H6</td>\n",
       "      <td>MULTIPOLYGON (((-86.89607 36.28446, -86.89606 ...</td>\n",
       "    </tr>\n",
       "    <tr>\n",
       "      <th>139861</th>\n",
       "      <td>470370101042</td>\n",
       "      <td>28406.0</td>\n",
       "      <td>47</td>\n",
       "      <td>037</td>\n",
       "      <td>010104</td>\n",
       "      <td>2</td>\n",
       "      <td>470370101042</td>\n",
       "      <td>TN</td>\n",
       "      <td>Davidson County</td>\n",
       "      <td>H6</td>\n",
       "      <td>MULTIPOLYGON (((-86.97440 36.24991, -86.97244 ...</td>\n",
       "    </tr>\n",
       "    <tr>\n",
       "      <th>139862</th>\n",
       "      <td>470370101051</td>\n",
       "      <td>27498.0</td>\n",
       "      <td>47</td>\n",
       "      <td>037</td>\n",
       "      <td>010105</td>\n",
       "      <td>1</td>\n",
       "      <td>470370101051</td>\n",
       "      <td>TN</td>\n",
       "      <td>Davidson County</td>\n",
       "      <td>H6</td>\n",
       "      <td>MULTIPOLYGON (((-86.87347 36.27968, -86.87345 ...</td>\n",
       "    </tr>\n",
       "  </tbody>\n",
       "</table>\n",
       "</div>"
      ],
      "text/plain": [
       "       census_block_group  income_per_cap StateFIPS CountyFIPS TractCode  \\\n",
       "139858       470370101031         35527.0        47        037    010103   \n",
       "139859       470370101032         30055.0        47        037    010103   \n",
       "139860       470370101041         33533.0        47        037    010104   \n",
       "139861       470370101042         28406.0        47        037    010104   \n",
       "139862       470370101051         27498.0        47        037    010105   \n",
       "\n",
       "       BlockGroup CensusBlockGroup State           County ClassCode  \\\n",
       "139858          1     470370101031    TN  Davidson County        H6   \n",
       "139859          2     470370101032    TN  Davidson County        H6   \n",
       "139860          1     470370101041    TN  Davidson County        H6   \n",
       "139861          2     470370101042    TN  Davidson County        H6   \n",
       "139862          1     470370101051    TN  Davidson County        H6   \n",
       "\n",
       "                                                 geometry  \n",
       "139858  MULTIPOLYGON (((-86.91752 36.33976, -86.91747 ...  \n",
       "139859  MULTIPOLYGON (((-86.88288 36.35786, -86.88219 ...  \n",
       "139860  MULTIPOLYGON (((-86.89607 36.28446, -86.89606 ...  \n",
       "139861  MULTIPOLYGON (((-86.97440 36.24991, -86.97244 ...  \n",
       "139862  MULTIPOLYGON (((-86.87347 36.27968, -86.87345 ...  "
      ]
     },
     "execution_count": 75,
     "metadata": {},
     "output_type": "execute_result"
    }
   ],
   "source": [
    "Davidson_per_cap.head()"
   ]
  },
  {
   "cell_type": "code",
   "execution_count": 76,
   "metadata": {},
   "outputs": [
    {
     "data": {
      "text/html": [
       "<div>\n",
       "<style scoped>\n",
       "    .dataframe tbody tr th:only-of-type {\n",
       "        vertical-align: middle;\n",
       "    }\n",
       "\n",
       "    .dataframe tbody tr th {\n",
       "        vertical-align: top;\n",
       "    }\n",
       "\n",
       "    .dataframe thead th {\n",
       "        text-align: right;\n",
       "    }\n",
       "</style>\n",
       "<table border=\"1\" class=\"dataframe\">\n",
       "  <thead>\n",
       "    <tr style=\"text-align: right;\">\n",
       "      <th></th>\n",
       "      <th>census_block_group</th>\n",
       "      <th>income_per_cap</th>\n",
       "      <th>State</th>\n",
       "      <th>County</th>\n",
       "      <th>geometry</th>\n",
       "    </tr>\n",
       "  </thead>\n",
       "  <tbody>\n",
       "    <tr>\n",
       "      <th>139858</th>\n",
       "      <td>470370101031</td>\n",
       "      <td>35527.0</td>\n",
       "      <td>TN</td>\n",
       "      <td>Davidson County</td>\n",
       "      <td>MULTIPOLYGON (((-86.91752 36.33976, -86.91747 ...</td>\n",
       "    </tr>\n",
       "    <tr>\n",
       "      <th>139859</th>\n",
       "      <td>470370101032</td>\n",
       "      <td>30055.0</td>\n",
       "      <td>TN</td>\n",
       "      <td>Davidson County</td>\n",
       "      <td>MULTIPOLYGON (((-86.88288 36.35786, -86.88219 ...</td>\n",
       "    </tr>\n",
       "    <tr>\n",
       "      <th>139860</th>\n",
       "      <td>470370101041</td>\n",
       "      <td>33533.0</td>\n",
       "      <td>TN</td>\n",
       "      <td>Davidson County</td>\n",
       "      <td>MULTIPOLYGON (((-86.89607 36.28446, -86.89606 ...</td>\n",
       "    </tr>\n",
       "    <tr>\n",
       "      <th>139861</th>\n",
       "      <td>470370101042</td>\n",
       "      <td>28406.0</td>\n",
       "      <td>TN</td>\n",
       "      <td>Davidson County</td>\n",
       "      <td>MULTIPOLYGON (((-86.97440 36.24991, -86.97244 ...</td>\n",
       "    </tr>\n",
       "    <tr>\n",
       "      <th>139862</th>\n",
       "      <td>470370101051</td>\n",
       "      <td>27498.0</td>\n",
       "      <td>TN</td>\n",
       "      <td>Davidson County</td>\n",
       "      <td>MULTIPOLYGON (((-86.87347 36.27968, -86.87345 ...</td>\n",
       "    </tr>\n",
       "  </tbody>\n",
       "</table>\n",
       "</div>"
      ],
      "text/plain": [
       "       census_block_group  income_per_cap State           County  \\\n",
       "139858       470370101031         35527.0    TN  Davidson County   \n",
       "139859       470370101032         30055.0    TN  Davidson County   \n",
       "139860       470370101041         33533.0    TN  Davidson County   \n",
       "139861       470370101042         28406.0    TN  Davidson County   \n",
       "139862       470370101051         27498.0    TN  Davidson County   \n",
       "\n",
       "                                                 geometry  \n",
       "139858  MULTIPOLYGON (((-86.91752 36.33976, -86.91747 ...  \n",
       "139859  MULTIPOLYGON (((-86.88288 36.35786, -86.88219 ...  \n",
       "139860  MULTIPOLYGON (((-86.89607 36.28446, -86.89606 ...  \n",
       "139861  MULTIPOLYGON (((-86.97440 36.24991, -86.97244 ...  \n",
       "139862  MULTIPOLYGON (((-86.87347 36.27968, -86.87345 ...  "
      ]
     },
     "execution_count": 76,
     "metadata": {},
     "output_type": "execute_result"
    }
   ],
   "source": [
    "Davidson_per_cap = Davidson_per_cap[['census_block_group',\n",
    "                                     'income_per_cap',\n",
    "                                     'State',\n",
    "                                     'County',\n",
    "                                     'geometry']]\n",
    "\n",
    "Davidson_per_cap.head()"
   ]
  },
  {
   "cell_type": "code",
   "execution_count": 77,
   "metadata": {},
   "outputs": [
    {
     "data": {
      "text/html": [
       "<div>\n",
       "<style scoped>\n",
       "    .dataframe tbody tr th:only-of-type {\n",
       "        vertical-align: middle;\n",
       "    }\n",
       "\n",
       "    .dataframe tbody tr th {\n",
       "        vertical-align: top;\n",
       "    }\n",
       "\n",
       "    .dataframe thead th {\n",
       "        text-align: right;\n",
       "    }\n",
       "</style>\n",
       "<table border=\"1\" class=\"dataframe\">\n",
       "  <thead>\n",
       "    <tr style=\"text-align: right;\">\n",
       "      <th></th>\n",
       "      <th>census_block_group</th>\n",
       "      <th>income_per_cap</th>\n",
       "      <th>state</th>\n",
       "      <th>county</th>\n",
       "      <th>geometry</th>\n",
       "    </tr>\n",
       "  </thead>\n",
       "  <tbody>\n",
       "    <tr>\n",
       "      <th>139858</th>\n",
       "      <td>470370101031</td>\n",
       "      <td>35527.0</td>\n",
       "      <td>TN</td>\n",
       "      <td>Davidson County</td>\n",
       "      <td>MULTIPOLYGON (((-86.91752 36.33976, -86.91747 ...</td>\n",
       "    </tr>\n",
       "    <tr>\n",
       "      <th>139859</th>\n",
       "      <td>470370101032</td>\n",
       "      <td>30055.0</td>\n",
       "      <td>TN</td>\n",
       "      <td>Davidson County</td>\n",
       "      <td>MULTIPOLYGON (((-86.88288 36.35786, -86.88219 ...</td>\n",
       "    </tr>\n",
       "    <tr>\n",
       "      <th>139860</th>\n",
       "      <td>470370101041</td>\n",
       "      <td>33533.0</td>\n",
       "      <td>TN</td>\n",
       "      <td>Davidson County</td>\n",
       "      <td>MULTIPOLYGON (((-86.89607 36.28446, -86.89606 ...</td>\n",
       "    </tr>\n",
       "    <tr>\n",
       "      <th>139861</th>\n",
       "      <td>470370101042</td>\n",
       "      <td>28406.0</td>\n",
       "      <td>TN</td>\n",
       "      <td>Davidson County</td>\n",
       "      <td>MULTIPOLYGON (((-86.97440 36.24991, -86.97244 ...</td>\n",
       "    </tr>\n",
       "    <tr>\n",
       "      <th>139862</th>\n",
       "      <td>470370101051</td>\n",
       "      <td>27498.0</td>\n",
       "      <td>TN</td>\n",
       "      <td>Davidson County</td>\n",
       "      <td>MULTIPOLYGON (((-86.87347 36.27968, -86.87345 ...</td>\n",
       "    </tr>\n",
       "    <tr>\n",
       "      <th>139863</th>\n",
       "      <td>470370101052</td>\n",
       "      <td>29534.0</td>\n",
       "      <td>TN</td>\n",
       "      <td>Davidson County</td>\n",
       "      <td>MULTIPOLYGON (((-86.89144 36.26205, -86.89100 ...</td>\n",
       "    </tr>\n",
       "    <tr>\n",
       "      <th>139864</th>\n",
       "      <td>470370101053</td>\n",
       "      <td>24254.0</td>\n",
       "      <td>TN</td>\n",
       "      <td>Davidson County</td>\n",
       "      <td>MULTIPOLYGON (((-86.83820 36.22363, -86.83819 ...</td>\n",
       "    </tr>\n",
       "    <tr>\n",
       "      <th>139865</th>\n",
       "      <td>470370101054</td>\n",
       "      <td>20644.0</td>\n",
       "      <td>TN</td>\n",
       "      <td>Davidson County</td>\n",
       "      <td>MULTIPOLYGON (((-86.82897 36.22033, -86.82895 ...</td>\n",
       "    </tr>\n",
       "    <tr>\n",
       "      <th>139866</th>\n",
       "      <td>470370101061</td>\n",
       "      <td>21403.0</td>\n",
       "      <td>TN</td>\n",
       "      <td>Davidson County</td>\n",
       "      <td>MULTIPOLYGON (((-86.83089 36.26570, -86.83016 ...</td>\n",
       "    </tr>\n",
       "    <tr>\n",
       "      <th>139867</th>\n",
       "      <td>470370101062</td>\n",
       "      <td>16564.0</td>\n",
       "      <td>TN</td>\n",
       "      <td>Davidson County</td>\n",
       "      <td>MULTIPOLYGON (((-86.81693 36.23618, -86.81609 ...</td>\n",
       "    </tr>\n",
       "    <tr>\n",
       "      <th>139868</th>\n",
       "      <td>470370102011</td>\n",
       "      <td>24800.0</td>\n",
       "      <td>TN</td>\n",
       "      <td>Davidson County</td>\n",
       "      <td>MULTIPOLYGON (((-86.81736 36.27398, -86.81733 ...</td>\n",
       "    </tr>\n",
       "    <tr>\n",
       "      <th>139869</th>\n",
       "      <td>470370102012</td>\n",
       "      <td>36108.0</td>\n",
       "      <td>TN</td>\n",
       "      <td>Davidson County</td>\n",
       "      <td>MULTIPOLYGON (((-86.78544 36.28307, -86.78540 ...</td>\n",
       "    </tr>\n",
       "    <tr>\n",
       "      <th>139870</th>\n",
       "      <td>470370102013</td>\n",
       "      <td>26655.0</td>\n",
       "      <td>TN</td>\n",
       "      <td>Davidson County</td>\n",
       "      <td>MULTIPOLYGON (((-86.75534 36.26998, -86.75503 ...</td>\n",
       "    </tr>\n",
       "    <tr>\n",
       "      <th>139871</th>\n",
       "      <td>470370102021</td>\n",
       "      <td>35071.0</td>\n",
       "      <td>TN</td>\n",
       "      <td>Davidson County</td>\n",
       "      <td>MULTIPOLYGON (((-86.82482 36.33225, -86.82480 ...</td>\n",
       "    </tr>\n",
       "    <tr>\n",
       "      <th>139872</th>\n",
       "      <td>470370102022</td>\n",
       "      <td>30481.0</td>\n",
       "      <td>TN</td>\n",
       "      <td>Davidson County</td>\n",
       "      <td>MULTIPOLYGON (((-86.82417 36.35041, -86.82416 ...</td>\n",
       "    </tr>\n",
       "    <tr>\n",
       "      <th>139873</th>\n",
       "      <td>470370102023</td>\n",
       "      <td>29051.0</td>\n",
       "      <td>TN</td>\n",
       "      <td>Davidson County</td>\n",
       "      <td>MULTIPOLYGON (((-86.77483 36.33348, -86.77421 ...</td>\n",
       "    </tr>\n",
       "    <tr>\n",
       "      <th>139874</th>\n",
       "      <td>470370103011</td>\n",
       "      <td>24637.0</td>\n",
       "      <td>TN</td>\n",
       "      <td>Davidson County</td>\n",
       "      <td>MULTIPOLYGON (((-86.73575 36.33283, -86.73541 ...</td>\n",
       "    </tr>\n",
       "    <tr>\n",
       "      <th>139875</th>\n",
       "      <td>470370103012</td>\n",
       "      <td>24983.0</td>\n",
       "      <td>TN</td>\n",
       "      <td>Davidson County</td>\n",
       "      <td>MULTIPOLYGON (((-86.74132 36.29354, -86.74119 ...</td>\n",
       "    </tr>\n",
       "    <tr>\n",
       "      <th>139876</th>\n",
       "      <td>470370103021</td>\n",
       "      <td>18623.0</td>\n",
       "      <td>TN</td>\n",
       "      <td>Davidson County</td>\n",
       "      <td>MULTIPOLYGON (((-86.72469 36.29682, -86.72452 ...</td>\n",
       "    </tr>\n",
       "    <tr>\n",
       "      <th>139877</th>\n",
       "      <td>470370103022</td>\n",
       "      <td>21771.0</td>\n",
       "      <td>TN</td>\n",
       "      <td>Davidson County</td>\n",
       "      <td>MULTIPOLYGON (((-86.71781 36.33898, -86.71777 ...</td>\n",
       "    </tr>\n",
       "  </tbody>\n",
       "</table>\n",
       "</div>"
      ],
      "text/plain": [
       "       census_block_group  income_per_cap state           county  \\\n",
       "139858       470370101031         35527.0    TN  Davidson County   \n",
       "139859       470370101032         30055.0    TN  Davidson County   \n",
       "139860       470370101041         33533.0    TN  Davidson County   \n",
       "139861       470370101042         28406.0    TN  Davidson County   \n",
       "139862       470370101051         27498.0    TN  Davidson County   \n",
       "139863       470370101052         29534.0    TN  Davidson County   \n",
       "139864       470370101053         24254.0    TN  Davidson County   \n",
       "139865       470370101054         20644.0    TN  Davidson County   \n",
       "139866       470370101061         21403.0    TN  Davidson County   \n",
       "139867       470370101062         16564.0    TN  Davidson County   \n",
       "139868       470370102011         24800.0    TN  Davidson County   \n",
       "139869       470370102012         36108.0    TN  Davidson County   \n",
       "139870       470370102013         26655.0    TN  Davidson County   \n",
       "139871       470370102021         35071.0    TN  Davidson County   \n",
       "139872       470370102022         30481.0    TN  Davidson County   \n",
       "139873       470370102023         29051.0    TN  Davidson County   \n",
       "139874       470370103011         24637.0    TN  Davidson County   \n",
       "139875       470370103012         24983.0    TN  Davidson County   \n",
       "139876       470370103021         18623.0    TN  Davidson County   \n",
       "139877       470370103022         21771.0    TN  Davidson County   \n",
       "\n",
       "                                                 geometry  \n",
       "139858  MULTIPOLYGON (((-86.91752 36.33976, -86.91747 ...  \n",
       "139859  MULTIPOLYGON (((-86.88288 36.35786, -86.88219 ...  \n",
       "139860  MULTIPOLYGON (((-86.89607 36.28446, -86.89606 ...  \n",
       "139861  MULTIPOLYGON (((-86.97440 36.24991, -86.97244 ...  \n",
       "139862  MULTIPOLYGON (((-86.87347 36.27968, -86.87345 ...  \n",
       "139863  MULTIPOLYGON (((-86.89144 36.26205, -86.89100 ...  \n",
       "139864  MULTIPOLYGON (((-86.83820 36.22363, -86.83819 ...  \n",
       "139865  MULTIPOLYGON (((-86.82897 36.22033, -86.82895 ...  \n",
       "139866  MULTIPOLYGON (((-86.83089 36.26570, -86.83016 ...  \n",
       "139867  MULTIPOLYGON (((-86.81693 36.23618, -86.81609 ...  \n",
       "139868  MULTIPOLYGON (((-86.81736 36.27398, -86.81733 ...  \n",
       "139869  MULTIPOLYGON (((-86.78544 36.28307, -86.78540 ...  \n",
       "139870  MULTIPOLYGON (((-86.75534 36.26998, -86.75503 ...  \n",
       "139871  MULTIPOLYGON (((-86.82482 36.33225, -86.82480 ...  \n",
       "139872  MULTIPOLYGON (((-86.82417 36.35041, -86.82416 ...  \n",
       "139873  MULTIPOLYGON (((-86.77483 36.33348, -86.77421 ...  \n",
       "139874  MULTIPOLYGON (((-86.73575 36.33283, -86.73541 ...  \n",
       "139875  MULTIPOLYGON (((-86.74132 36.29354, -86.74119 ...  \n",
       "139876  MULTIPOLYGON (((-86.72469 36.29682, -86.72452 ...  \n",
       "139877  MULTIPOLYGON (((-86.71781 36.33898, -86.71777 ...  "
      ]
     },
     "execution_count": 77,
     "metadata": {},
     "output_type": "execute_result"
    }
   ],
   "source": [
    "Davidson_per_cap = Davidson_per_cap.rename(columns={'State': 'state',\n",
    "                                                    'County': 'county'})\n",
    "Davidson_per_cap.head(20)"
   ]
  },
  {
   "cell_type": "code",
   "execution_count": 78,
   "metadata": {},
   "outputs": [
    {
     "data": {
      "text/plain": [
       "(473, 5)"
      ]
     },
     "execution_count": 78,
     "metadata": {},
     "output_type": "execute_result"
    }
   ],
   "source": [
    "Davidson_per_cap.shape"
   ]
  },
  {
   "cell_type": "code",
   "execution_count": 85,
   "metadata": {},
   "outputs": [],
   "source": [
    "Davidson_per_cap_gdf = gpd.GeoDataFrame(Davidson_per_cap, geometry='geometry')"
   ]
  },
  {
   "cell_type": "code",
   "execution_count": 87,
   "metadata": {},
   "outputs": [],
   "source": [
    "Davidson_per_cap_gdf.to_file('../data/final_data/davidson_per_cap.geojson', driver = 'GeoJSON')"
   ]
  },
  {
   "cell_type": "code",
   "execution_count": null,
   "metadata": {},
   "outputs": [],
   "source": []
  }
 ],
 "metadata": {
  "kernelspec": {
   "display_name": "Python 3",
   "language": "python",
   "name": "python3"
  },
  "language_info": {
   "codemirror_mode": {
    "name": "ipython",
    "version": 3
   },
   "file_extension": ".py",
   "mimetype": "text/x-python",
   "name": "python",
   "nbconvert_exporter": "python",
   "pygments_lexer": "ipython3",
   "version": "3.7.6"
  }
 },
 "nbformat": 4,
 "nbformat_minor": 4
}
