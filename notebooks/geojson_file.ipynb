{
 "cells": [
  {
   "cell_type": "code",
   "execution_count": 3,
   "metadata": {},
   "outputs": [],
   "source": [
    "import pandas as pd\n",
    "import geopandas as gpd"
   ]
  },
  {
   "cell_type": "code",
   "execution_count": 4,
   "metadata": {},
   "outputs": [],
   "source": [
    "geometry = gpd.read_file('../data/safegraph_open_census_data/geometry/cbg.geojson')"
   ]
  },
  {
   "cell_type": "code",
   "execution_count": 5,
   "metadata": {},
   "outputs": [
    {
     "name": "stdout",
     "output_type": "stream",
     "text": [
      "epsg:4326\n"
     ]
    },
    {
     "data": {
      "text/plain": [
       "(220333, 9)"
      ]
     },
     "execution_count": 5,
     "metadata": {},
     "output_type": "execute_result"
    }
   ],
   "source": [
    "print(geometry.crs)\n",
    "geometry.shape"
   ]
  },
  {
   "cell_type": "code",
   "execution_count": 6,
   "metadata": {},
   "outputs": [
    {
     "data": {
      "text/html": [
       "<div>\n",
       "<style scoped>\n",
       "    .dataframe tbody tr th:only-of-type {\n",
       "        vertical-align: middle;\n",
       "    }\n",
       "\n",
       "    .dataframe tbody tr th {\n",
       "        vertical-align: top;\n",
       "    }\n",
       "\n",
       "    .dataframe thead th {\n",
       "        text-align: right;\n",
       "    }\n",
       "</style>\n",
       "<table border=\"1\" class=\"dataframe\">\n",
       "  <thead>\n",
       "    <tr style=\"text-align: right;\">\n",
       "      <th></th>\n",
       "      <th>StateFIPS</th>\n",
       "      <th>CountyFIPS</th>\n",
       "      <th>TractCode</th>\n",
       "      <th>BlockGroup</th>\n",
       "      <th>CensusBlockGroup</th>\n",
       "      <th>State</th>\n",
       "      <th>County</th>\n",
       "      <th>ClassCode</th>\n",
       "      <th>geometry</th>\n",
       "    </tr>\n",
       "  </thead>\n",
       "  <tbody>\n",
       "    <tr>\n",
       "      <th>0</th>\n",
       "      <td>01</td>\n",
       "      <td>081</td>\n",
       "      <td>041600</td>\n",
       "      <td>1</td>\n",
       "      <td>010810416001</td>\n",
       "      <td>AL</td>\n",
       "      <td>Lee County</td>\n",
       "      <td>H1</td>\n",
       "      <td>MULTIPOLYGON (((-85.37282 32.63424, -85.37275 ...</td>\n",
       "    </tr>\n",
       "    <tr>\n",
       "      <th>1</th>\n",
       "      <td>01</td>\n",
       "      <td>081</td>\n",
       "      <td>041600</td>\n",
       "      <td>2</td>\n",
       "      <td>010810416002</td>\n",
       "      <td>AL</td>\n",
       "      <td>Lee County</td>\n",
       "      <td>H1</td>\n",
       "      <td>MULTIPOLYGON (((-85.38346 32.64838, -85.38301 ...</td>\n",
       "    </tr>\n",
       "    <tr>\n",
       "      <th>2</th>\n",
       "      <td>01</td>\n",
       "      <td>081</td>\n",
       "      <td>041700</td>\n",
       "      <td>4</td>\n",
       "      <td>010810417004</td>\n",
       "      <td>AL</td>\n",
       "      <td>Lee County</td>\n",
       "      <td>H1</td>\n",
       "      <td>MULTIPOLYGON (((-85.37139 32.60139, -85.37138 ...</td>\n",
       "    </tr>\n",
       "    <tr>\n",
       "      <th>3</th>\n",
       "      <td>01</td>\n",
       "      <td>073</td>\n",
       "      <td>011107</td>\n",
       "      <td>4</td>\n",
       "      <td>010730111074</td>\n",
       "      <td>AL</td>\n",
       "      <td>Jefferson County</td>\n",
       "      <td>H1</td>\n",
       "      <td>MULTIPOLYGON (((-86.64797 33.59205, -86.64771 ...</td>\n",
       "    </tr>\n",
       "    <tr>\n",
       "      <th>4</th>\n",
       "      <td>01</td>\n",
       "      <td>073</td>\n",
       "      <td>011108</td>\n",
       "      <td>4</td>\n",
       "      <td>010730111084</td>\n",
       "      <td>AL</td>\n",
       "      <td>Jefferson County</td>\n",
       "      <td>H1</td>\n",
       "      <td>MULTIPOLYGON (((-86.65206 33.59869, -86.65204 ...</td>\n",
       "    </tr>\n",
       "  </tbody>\n",
       "</table>\n",
       "</div>"
      ],
      "text/plain": [
       "  StateFIPS CountyFIPS TractCode BlockGroup CensusBlockGroup State  \\\n",
       "0        01        081    041600          1     010810416001    AL   \n",
       "1        01        081    041600          2     010810416002    AL   \n",
       "2        01        081    041700          4     010810417004    AL   \n",
       "3        01        073    011107          4     010730111074    AL   \n",
       "4        01        073    011108          4     010730111084    AL   \n",
       "\n",
       "             County ClassCode  \\\n",
       "0        Lee County        H1   \n",
       "1        Lee County        H1   \n",
       "2        Lee County        H1   \n",
       "3  Jefferson County        H1   \n",
       "4  Jefferson County        H1   \n",
       "\n",
       "                                            geometry  \n",
       "0  MULTIPOLYGON (((-85.37282 32.63424, -85.37275 ...  \n",
       "1  MULTIPOLYGON (((-85.38346 32.64838, -85.38301 ...  \n",
       "2  MULTIPOLYGON (((-85.37139 32.60139, -85.37138 ...  \n",
       "3  MULTIPOLYGON (((-86.64797 33.59205, -86.64771 ...  \n",
       "4  MULTIPOLYGON (((-86.65206 33.59869, -86.65204 ...  "
      ]
     },
     "execution_count": 6,
     "metadata": {},
     "output_type": "execute_result"
    }
   ],
   "source": [
    "geometry.head()"
   ]
  },
  {
   "cell_type": "code",
   "execution_count": 7,
   "metadata": {},
   "outputs": [],
   "source": [
    "per_cap = pd.read_csv('../data/census_data_income_per_cap_2.csv').drop('Unnamed: 0', axis = 1)"
   ]
  },
  {
   "cell_type": "code",
   "execution_count": 8,
   "metadata": {},
   "outputs": [
    {
     "data": {
      "text/html": [
       "<div>\n",
       "<style scoped>\n",
       "    .dataframe tbody tr th:only-of-type {\n",
       "        vertical-align: middle;\n",
       "    }\n",
       "\n",
       "    .dataframe tbody tr th {\n",
       "        vertical-align: top;\n",
       "    }\n",
       "\n",
       "    .dataframe thead th {\n",
       "        text-align: right;\n",
       "    }\n",
       "</style>\n",
       "<table border=\"1\" class=\"dataframe\">\n",
       "  <thead>\n",
       "    <tr style=\"text-align: right;\">\n",
       "      <th></th>\n",
       "      <th>census_block_group</th>\n",
       "      <th>income_per_cap</th>\n",
       "    </tr>\n",
       "  </thead>\n",
       "  <tbody>\n",
       "    <tr>\n",
       "      <th>0</th>\n",
       "      <td>10010201001</td>\n",
       "      <td>20365.0</td>\n",
       "    </tr>\n",
       "    <tr>\n",
       "      <th>1</th>\n",
       "      <td>10010201002</td>\n",
       "      <td>33336.0</td>\n",
       "    </tr>\n",
       "    <tr>\n",
       "      <th>2</th>\n",
       "      <td>10010202001</td>\n",
       "      <td>17047.0</td>\n",
       "    </tr>\n",
       "    <tr>\n",
       "      <th>3</th>\n",
       "      <td>10010202002</td>\n",
       "      <td>21400.0</td>\n",
       "    </tr>\n",
       "    <tr>\n",
       "      <th>4</th>\n",
       "      <td>10010203001</td>\n",
       "      <td>23106.0</td>\n",
       "    </tr>\n",
       "  </tbody>\n",
       "</table>\n",
       "</div>"
      ],
      "text/plain": [
       "   census_block_group  income_per_cap\n",
       "0         10010201001         20365.0\n",
       "1         10010201002         33336.0\n",
       "2         10010202001         17047.0\n",
       "3         10010202002         21400.0\n",
       "4         10010203001         23106.0"
      ]
     },
     "execution_count": 8,
     "metadata": {},
     "output_type": "execute_result"
    }
   ],
   "source": [
    "per_cap.tail()"
   ]
  },
  {
   "cell_type": "code",
   "execution_count": 9,
   "metadata": {},
   "outputs": [
    {
     "data": {
      "text/plain": [
       "(220333, 2)"
      ]
     },
     "execution_count": 9,
     "metadata": {},
     "output_type": "execute_result"
    }
   ],
   "source": [
    "per_cap.shape"
   ]
  },
  {
   "cell_type": "code",
   "execution_count": 10,
   "metadata": {},
   "outputs": [
    {
     "data": {
      "text/plain": [
       "StateFIPS             object\n",
       "CountyFIPS            object\n",
       "TractCode             object\n",
       "BlockGroup            object\n",
       "CensusBlockGroup      object\n",
       "State                 object\n",
       "County                object\n",
       "ClassCode             object\n",
       "geometry            geometry\n",
       "dtype: object"
      ]
     },
     "execution_count": 10,
     "metadata": {},
     "output_type": "execute_result"
    }
   ],
   "source": [
    "geometry.dtypes"
   ]
  },
  {
   "cell_type": "code",
   "execution_count": 11,
   "metadata": {},
   "outputs": [
    {
     "data": {
      "text/plain": [
       "census_block_group      int64\n",
       "income_per_cap        float64\n",
       "dtype: object"
      ]
     },
     "execution_count": 11,
     "metadata": {},
     "output_type": "execute_result"
    }
   ],
   "source": [
    "per_cap.dtypes"
   ]
  },
  {
   "cell_type": "code",
   "execution_count": 12,
   "metadata": {},
   "outputs": [
    {
     "data": {
      "text/plain": [
       "(220333, 9)"
      ]
     },
     "execution_count": 12,
     "metadata": {},
     "output_type": "execute_result"
    }
   ],
   "source": [
    "geometry.CensusBlockGroup = geometry.CensusBlockGroup.astype(str)\n",
    "geometry.shape"
   ]
  },
  {
   "cell_type": "code",
   "execution_count": 13,
   "metadata": {},
   "outputs": [
    {
     "data": {
      "text/html": [
       "<div>\n",
       "<style scoped>\n",
       "    .dataframe tbody tr th:only-of-type {\n",
       "        vertical-align: middle;\n",
       "    }\n",
       "\n",
       "    .dataframe tbody tr th {\n",
       "        vertical-align: top;\n",
       "    }\n",
       "\n",
       "    .dataframe thead th {\n",
       "        text-align: right;\n",
       "    }\n",
       "</style>\n",
       "<table border=\"1\" class=\"dataframe\">\n",
       "  <thead>\n",
       "    <tr style=\"text-align: right;\">\n",
       "      <th></th>\n",
       "      <th>StateFIPS</th>\n",
       "      <th>CountyFIPS</th>\n",
       "      <th>TractCode</th>\n",
       "      <th>BlockGroup</th>\n",
       "      <th>CensusBlockGroup</th>\n",
       "      <th>State</th>\n",
       "      <th>County</th>\n",
       "      <th>ClassCode</th>\n",
       "      <th>geometry</th>\n",
       "    </tr>\n",
       "  </thead>\n",
       "  <tbody>\n",
       "    <tr>\n",
       "      <th>0</th>\n",
       "      <td>01</td>\n",
       "      <td>081</td>\n",
       "      <td>041600</td>\n",
       "      <td>1</td>\n",
       "      <td>010810416001</td>\n",
       "      <td>AL</td>\n",
       "      <td>Lee County</td>\n",
       "      <td>H1</td>\n",
       "      <td>MULTIPOLYGON (((-85.37282 32.63424, -85.37275 ...</td>\n",
       "    </tr>\n",
       "    <tr>\n",
       "      <th>1</th>\n",
       "      <td>01</td>\n",
       "      <td>081</td>\n",
       "      <td>041600</td>\n",
       "      <td>2</td>\n",
       "      <td>010810416002</td>\n",
       "      <td>AL</td>\n",
       "      <td>Lee County</td>\n",
       "      <td>H1</td>\n",
       "      <td>MULTIPOLYGON (((-85.38346 32.64838, -85.38301 ...</td>\n",
       "    </tr>\n",
       "    <tr>\n",
       "      <th>2</th>\n",
       "      <td>01</td>\n",
       "      <td>081</td>\n",
       "      <td>041700</td>\n",
       "      <td>4</td>\n",
       "      <td>010810417004</td>\n",
       "      <td>AL</td>\n",
       "      <td>Lee County</td>\n",
       "      <td>H1</td>\n",
       "      <td>MULTIPOLYGON (((-85.37139 32.60139, -85.37138 ...</td>\n",
       "    </tr>\n",
       "    <tr>\n",
       "      <th>3</th>\n",
       "      <td>01</td>\n",
       "      <td>073</td>\n",
       "      <td>011107</td>\n",
       "      <td>4</td>\n",
       "      <td>010730111074</td>\n",
       "      <td>AL</td>\n",
       "      <td>Jefferson County</td>\n",
       "      <td>H1</td>\n",
       "      <td>MULTIPOLYGON (((-86.64797 33.59205, -86.64771 ...</td>\n",
       "    </tr>\n",
       "    <tr>\n",
       "      <th>4</th>\n",
       "      <td>01</td>\n",
       "      <td>073</td>\n",
       "      <td>011108</td>\n",
       "      <td>4</td>\n",
       "      <td>010730111084</td>\n",
       "      <td>AL</td>\n",
       "      <td>Jefferson County</td>\n",
       "      <td>H1</td>\n",
       "      <td>MULTIPOLYGON (((-86.65206 33.59869, -86.65204 ...</td>\n",
       "    </tr>\n",
       "  </tbody>\n",
       "</table>\n",
       "</div>"
      ],
      "text/plain": [
       "  StateFIPS CountyFIPS TractCode BlockGroup CensusBlockGroup State  \\\n",
       "0        01        081    041600          1     010810416001    AL   \n",
       "1        01        081    041600          2     010810416002    AL   \n",
       "2        01        081    041700          4     010810417004    AL   \n",
       "3        01        073    011107          4     010730111074    AL   \n",
       "4        01        073    011108          4     010730111084    AL   \n",
       "\n",
       "             County ClassCode  \\\n",
       "0        Lee County        H1   \n",
       "1        Lee County        H1   \n",
       "2        Lee County        H1   \n",
       "3  Jefferson County        H1   \n",
       "4  Jefferson County        H1   \n",
       "\n",
       "                                            geometry  \n",
       "0  MULTIPOLYGON (((-85.37282 32.63424, -85.37275 ...  \n",
       "1  MULTIPOLYGON (((-85.38346 32.64838, -85.38301 ...  \n",
       "2  MULTIPOLYGON (((-85.37139 32.60139, -85.37138 ...  \n",
       "3  MULTIPOLYGON (((-86.64797 33.59205, -86.64771 ...  \n",
       "4  MULTIPOLYGON (((-86.65206 33.59869, -86.65204 ...  "
      ]
     },
     "execution_count": 13,
     "metadata": {},
     "output_type": "execute_result"
    }
   ],
   "source": [
    "geometry.head()"
   ]
  },
  {
   "cell_type": "code",
   "execution_count": 14,
   "metadata": {},
   "outputs": [
    {
     "data": {
      "text/html": [
       "<div>\n",
       "<style scoped>\n",
       "    .dataframe tbody tr th:only-of-type {\n",
       "        vertical-align: middle;\n",
       "    }\n",
       "\n",
       "    .dataframe tbody tr th {\n",
       "        vertical-align: top;\n",
       "    }\n",
       "\n",
       "    .dataframe thead th {\n",
       "        text-align: right;\n",
       "    }\n",
       "</style>\n",
       "<table border=\"1\" class=\"dataframe\">\n",
       "  <thead>\n",
       "    <tr style=\"text-align: right;\">\n",
       "      <th></th>\n",
       "      <th>census_block_group</th>\n",
       "      <th>income_per_cap</th>\n",
       "    </tr>\n",
       "  </thead>\n",
       "  <tbody>\n",
       "    <tr>\n",
       "      <th>0</th>\n",
       "      <td>10010201001</td>\n",
       "      <td>20365.0</td>\n",
       "    </tr>\n",
       "    <tr>\n",
       "      <th>1</th>\n",
       "      <td>10010201002</td>\n",
       "      <td>33336.0</td>\n",
       "    </tr>\n",
       "    <tr>\n",
       "      <th>2</th>\n",
       "      <td>10010202001</td>\n",
       "      <td>17047.0</td>\n",
       "    </tr>\n",
       "    <tr>\n",
       "      <th>3</th>\n",
       "      <td>10010202002</td>\n",
       "      <td>21400.0</td>\n",
       "    </tr>\n",
       "    <tr>\n",
       "      <th>4</th>\n",
       "      <td>10010203001</td>\n",
       "      <td>23106.0</td>\n",
       "    </tr>\n",
       "  </tbody>\n",
       "</table>\n",
       "</div>"
      ],
      "text/plain": [
       "  census_block_group  income_per_cap\n",
       "0        10010201001         20365.0\n",
       "1        10010201002         33336.0\n",
       "2        10010202001         17047.0\n",
       "3        10010202002         21400.0\n",
       "4        10010203001         23106.0"
      ]
     },
     "execution_count": 14,
     "metadata": {},
     "output_type": "execute_result"
    }
   ],
   "source": [
    "per_cap.census_block_group = per_cap.census_block_group.astype(str)\n",
    "per_cap.head()"
   ]
  },
  {
   "cell_type": "code",
   "execution_count": 15,
   "metadata": {},
   "outputs": [
    {
     "data": {
      "text/html": [
       "<div>\n",
       "<style scoped>\n",
       "    .dataframe tbody tr th:only-of-type {\n",
       "        vertical-align: middle;\n",
       "    }\n",
       "\n",
       "    .dataframe tbody tr th {\n",
       "        vertical-align: top;\n",
       "    }\n",
       "\n",
       "    .dataframe thead th {\n",
       "        text-align: right;\n",
       "    }\n",
       "</style>\n",
       "<table border=\"1\" class=\"dataframe\">\n",
       "  <thead>\n",
       "    <tr style=\"text-align: right;\">\n",
       "      <th></th>\n",
       "      <th>census_block_group</th>\n",
       "      <th>income_per_cap</th>\n",
       "      <th>StateFIPS</th>\n",
       "      <th>CountyFIPS</th>\n",
       "      <th>TractCode</th>\n",
       "      <th>BlockGroup</th>\n",
       "      <th>CensusBlockGroup</th>\n",
       "      <th>State</th>\n",
       "      <th>County</th>\n",
       "      <th>ClassCode</th>\n",
       "      <th>geometry</th>\n",
       "    </tr>\n",
       "  </thead>\n",
       "  <tbody>\n",
       "    <tr>\n",
       "      <th>0</th>\n",
       "      <td>100010401001</td>\n",
       "      <td>24302.0</td>\n",
       "      <td>10</td>\n",
       "      <td>001</td>\n",
       "      <td>040100</td>\n",
       "      <td>1</td>\n",
       "      <td>100010401001</td>\n",
       "      <td>DE</td>\n",
       "      <td>Kent County</td>\n",
       "      <td>H1</td>\n",
       "      <td>MULTIPOLYGON (((-75.76002 39.29682, -75.75626 ...</td>\n",
       "    </tr>\n",
       "    <tr>\n",
       "      <th>1</th>\n",
       "      <td>100010401002</td>\n",
       "      <td>27198.0</td>\n",
       "      <td>10</td>\n",
       "      <td>001</td>\n",
       "      <td>040100</td>\n",
       "      <td>2</td>\n",
       "      <td>100010401002</td>\n",
       "      <td>DE</td>\n",
       "      <td>Kent County</td>\n",
       "      <td>H1</td>\n",
       "      <td>MULTIPOLYGON (((-75.75697 39.25807, -75.75652 ...</td>\n",
       "    </tr>\n",
       "    <tr>\n",
       "      <th>2</th>\n",
       "      <td>100010401003</td>\n",
       "      <td>26313.0</td>\n",
       "      <td>10</td>\n",
       "      <td>001</td>\n",
       "      <td>040100</td>\n",
       "      <td>3</td>\n",
       "      <td>100010401003</td>\n",
       "      <td>DE</td>\n",
       "      <td>Kent County</td>\n",
       "      <td>H1</td>\n",
       "      <td>MULTIPOLYGON (((-75.74623 39.20031, -75.74605 ...</td>\n",
       "    </tr>\n",
       "    <tr>\n",
       "      <th>3</th>\n",
       "      <td>100010402011</td>\n",
       "      <td>24056.0</td>\n",
       "      <td>10</td>\n",
       "      <td>001</td>\n",
       "      <td>040201</td>\n",
       "      <td>1</td>\n",
       "      <td>100010402011</td>\n",
       "      <td>DE</td>\n",
       "      <td>Kent County</td>\n",
       "      <td>H1</td>\n",
       "      <td>MULTIPOLYGON (((-75.66581 39.29057, -75.66547 ...</td>\n",
       "    </tr>\n",
       "    <tr>\n",
       "      <th>4</th>\n",
       "      <td>100010402012</td>\n",
       "      <td>27699.0</td>\n",
       "      <td>10</td>\n",
       "      <td>001</td>\n",
       "      <td>040201</td>\n",
       "      <td>2</td>\n",
       "      <td>100010402012</td>\n",
       "      <td>DE</td>\n",
       "      <td>Kent County</td>\n",
       "      <td>H1</td>\n",
       "      <td>MULTIPOLYGON (((-75.62432 39.29380, -75.62427 ...</td>\n",
       "    </tr>\n",
       "  </tbody>\n",
       "</table>\n",
       "</div>"
      ],
      "text/plain": [
       "  census_block_group  income_per_cap StateFIPS CountyFIPS TractCode  \\\n",
       "0       100010401001         24302.0        10        001    040100   \n",
       "1       100010401002         27198.0        10        001    040100   \n",
       "2       100010401003         26313.0        10        001    040100   \n",
       "3       100010402011         24056.0        10        001    040201   \n",
       "4       100010402012         27699.0        10        001    040201   \n",
       "\n",
       "  BlockGroup CensusBlockGroup State       County ClassCode  \\\n",
       "0          1     100010401001    DE  Kent County        H1   \n",
       "1          2     100010401002    DE  Kent County        H1   \n",
       "2          3     100010401003    DE  Kent County        H1   \n",
       "3          1     100010402011    DE  Kent County        H1   \n",
       "4          2     100010402012    DE  Kent County        H1   \n",
       "\n",
       "                                            geometry  \n",
       "0  MULTIPOLYGON (((-75.76002 39.29682, -75.75626 ...  \n",
       "1  MULTIPOLYGON (((-75.75697 39.25807, -75.75652 ...  \n",
       "2  MULTIPOLYGON (((-75.74623 39.20031, -75.74605 ...  \n",
       "3  MULTIPOLYGON (((-75.66581 39.29057, -75.66547 ...  \n",
       "4  MULTIPOLYGON (((-75.62432 39.29380, -75.62427 ...  "
      ]
     },
     "execution_count": 15,
     "metadata": {},
     "output_type": "execute_result"
    }
   ],
   "source": [
    "geo_per_cap = pd.merge(per_cap, geometry, left_on='census_block_group', right_on='CensusBlockGroup')\n",
    "geo_per_cap.head()"
   ]
  },
  {
   "cell_type": "code",
   "execution_count": 16,
   "metadata": {},
   "outputs": [
    {
     "data": {
      "text/plain": [
       "(180707, 11)"
      ]
     },
     "execution_count": 16,
     "metadata": {},
     "output_type": "execute_result"
    }
   ],
   "source": [
    "geo_per_cap.shape"
   ]
  },
  {
   "cell_type": "code",
   "execution_count": 36,
   "metadata": {},
   "outputs": [
    {
     "data": {
      "text/plain": [
       "(4125, 11)"
      ]
     },
     "execution_count": 36,
     "metadata": {},
     "output_type": "execute_result"
    }
   ],
   "source": [
    "TN = geo_per_cap.loc[geo_per_cap['State'] == 'TN']\n",
    "TN.shape"
   ]
  },
  {
   "cell_type": "code",
   "execution_count": 37,
   "metadata": {},
   "outputs": [
    {
     "data": {
      "text/plain": [
       "(473, 11)"
      ]
     },
     "execution_count": 37,
     "metadata": {},
     "output_type": "execute_result"
    }
   ],
   "source": [
    "Davidson_per_cap = TN.loc[TN['County'] == 'Davidson County']\n",
    "Davidson_per_cap.shape"
   ]
  },
  {
   "cell_type": "code",
   "execution_count": 31,
   "metadata": {},
   "outputs": [
    {
     "data": {
      "text/plain": [
       "(4125, 9)"
      ]
     },
     "execution_count": 31,
     "metadata": {},
     "output_type": "execute_result"
    }
   ],
   "source": [
    "TN_test = geometry.loc[geometry['State'] == 'TN']\n",
    "TN_test.shape"
   ]
  },
  {
   "cell_type": "code",
   "execution_count": 32,
   "metadata": {},
   "outputs": [
    {
     "data": {
      "text/plain": [
       "(473, 9)"
      ]
     },
     "execution_count": 32,
     "metadata": {},
     "output_type": "execute_result"
    }
   ],
   "source": [
    "Davidson_test = TN_test.loc[TN_test['County'] == 'Davidson County']\n",
    "Davidson_test.shape"
   ]
  },
  {
   "cell_type": "code",
   "execution_count": 38,
   "metadata": {},
   "outputs": [
    {
     "data": {
      "text/html": [
       "<div>\n",
       "<style scoped>\n",
       "    .dataframe tbody tr th:only-of-type {\n",
       "        vertical-align: middle;\n",
       "    }\n",
       "\n",
       "    .dataframe tbody tr th {\n",
       "        vertical-align: top;\n",
       "    }\n",
       "\n",
       "    .dataframe thead th {\n",
       "        text-align: right;\n",
       "    }\n",
       "</style>\n",
       "<table border=\"1\" class=\"dataframe\">\n",
       "  <thead>\n",
       "    <tr style=\"text-align: right;\">\n",
       "      <th></th>\n",
       "      <th>census_block_group</th>\n",
       "      <th>income_per_cap</th>\n",
       "      <th>StateFIPS</th>\n",
       "      <th>CountyFIPS</th>\n",
       "      <th>TractCode</th>\n",
       "      <th>BlockGroup</th>\n",
       "      <th>CensusBlockGroup</th>\n",
       "      <th>State</th>\n",
       "      <th>County</th>\n",
       "      <th>ClassCode</th>\n",
       "      <th>geometry</th>\n",
       "    </tr>\n",
       "  </thead>\n",
       "  <tbody>\n",
       "    <tr>\n",
       "      <th>139858</th>\n",
       "      <td>470370101031</td>\n",
       "      <td>35527.0</td>\n",
       "      <td>47</td>\n",
       "      <td>037</td>\n",
       "      <td>010103</td>\n",
       "      <td>1</td>\n",
       "      <td>470370101031</td>\n",
       "      <td>TN</td>\n",
       "      <td>Davidson County</td>\n",
       "      <td>H6</td>\n",
       "      <td>MULTIPOLYGON (((-86.91752 36.33976, -86.91747 ...</td>\n",
       "    </tr>\n",
       "    <tr>\n",
       "      <th>139859</th>\n",
       "      <td>470370101032</td>\n",
       "      <td>30055.0</td>\n",
       "      <td>47</td>\n",
       "      <td>037</td>\n",
       "      <td>010103</td>\n",
       "      <td>2</td>\n",
       "      <td>470370101032</td>\n",
       "      <td>TN</td>\n",
       "      <td>Davidson County</td>\n",
       "      <td>H6</td>\n",
       "      <td>MULTIPOLYGON (((-86.88288 36.35786, -86.88219 ...</td>\n",
       "    </tr>\n",
       "    <tr>\n",
       "      <th>139860</th>\n",
       "      <td>470370101041</td>\n",
       "      <td>33533.0</td>\n",
       "      <td>47</td>\n",
       "      <td>037</td>\n",
       "      <td>010104</td>\n",
       "      <td>1</td>\n",
       "      <td>470370101041</td>\n",
       "      <td>TN</td>\n",
       "      <td>Davidson County</td>\n",
       "      <td>H6</td>\n",
       "      <td>MULTIPOLYGON (((-86.89607 36.28446, -86.89606 ...</td>\n",
       "    </tr>\n",
       "    <tr>\n",
       "      <th>139861</th>\n",
       "      <td>470370101042</td>\n",
       "      <td>28406.0</td>\n",
       "      <td>47</td>\n",
       "      <td>037</td>\n",
       "      <td>010104</td>\n",
       "      <td>2</td>\n",
       "      <td>470370101042</td>\n",
       "      <td>TN</td>\n",
       "      <td>Davidson County</td>\n",
       "      <td>H6</td>\n",
       "      <td>MULTIPOLYGON (((-86.97440 36.24991, -86.97244 ...</td>\n",
       "    </tr>\n",
       "    <tr>\n",
       "      <th>139862</th>\n",
       "      <td>470370101051</td>\n",
       "      <td>27498.0</td>\n",
       "      <td>47</td>\n",
       "      <td>037</td>\n",
       "      <td>010105</td>\n",
       "      <td>1</td>\n",
       "      <td>470370101051</td>\n",
       "      <td>TN</td>\n",
       "      <td>Davidson County</td>\n",
       "      <td>H6</td>\n",
       "      <td>MULTIPOLYGON (((-86.87347 36.27968, -86.87345 ...</td>\n",
       "    </tr>\n",
       "  </tbody>\n",
       "</table>\n",
       "</div>"
      ],
      "text/plain": [
       "       census_block_group  income_per_cap StateFIPS CountyFIPS TractCode  \\\n",
       "139858       470370101031         35527.0        47        037    010103   \n",
       "139859       470370101032         30055.0        47        037    010103   \n",
       "139860       470370101041         33533.0        47        037    010104   \n",
       "139861       470370101042         28406.0        47        037    010104   \n",
       "139862       470370101051         27498.0        47        037    010105   \n",
       "\n",
       "       BlockGroup CensusBlockGroup State           County ClassCode  \\\n",
       "139858          1     470370101031    TN  Davidson County        H6   \n",
       "139859          2     470370101032    TN  Davidson County        H6   \n",
       "139860          1     470370101041    TN  Davidson County        H6   \n",
       "139861          2     470370101042    TN  Davidson County        H6   \n",
       "139862          1     470370101051    TN  Davidson County        H6   \n",
       "\n",
       "                                                 geometry  \n",
       "139858  MULTIPOLYGON (((-86.91752 36.33976, -86.91747 ...  \n",
       "139859  MULTIPOLYGON (((-86.88288 36.35786, -86.88219 ...  \n",
       "139860  MULTIPOLYGON (((-86.89607 36.28446, -86.89606 ...  \n",
       "139861  MULTIPOLYGON (((-86.97440 36.24991, -86.97244 ...  \n",
       "139862  MULTIPOLYGON (((-86.87347 36.27968, -86.87345 ...  "
      ]
     },
     "execution_count": 38,
     "metadata": {},
     "output_type": "execute_result"
    }
   ],
   "source": [
    "Davidson_per_cap.head()"
   ]
  },
  {
   "cell_type": "code",
   "execution_count": null,
   "metadata": {},
   "outputs": [],
   "source": []
  }
 ],
 "metadata": {
  "kernelspec": {
   "display_name": "Python 3",
   "language": "python",
   "name": "python3"
  },
  "language_info": {
   "codemirror_mode": {
    "name": "ipython",
    "version": 3
   },
   "file_extension": ".py",
   "mimetype": "text/x-python",
   "name": "python",
   "nbconvert_exporter": "python",
   "pygments_lexer": "ipython3",
   "version": "3.7.6"
  }
 },
 "nbformat": 4,
 "nbformat_minor": 4
}
