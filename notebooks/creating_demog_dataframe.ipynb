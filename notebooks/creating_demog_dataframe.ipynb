{
 "cells": [
  {
   "cell_type": "code",
   "execution_count": 104,
   "metadata": {},
   "outputs": [],
   "source": [
    "import pandas as pd"
   ]
  },
  {
   "cell_type": "code",
   "execution_count": 105,
   "metadata": {},
   "outputs": [
    {
     "data": {
      "text/html": [
       "<div>\n",
       "<style scoped>\n",
       "    .dataframe tbody tr th:only-of-type {\n",
       "        vertical-align: middle;\n",
       "    }\n",
       "\n",
       "    .dataframe tbody tr th {\n",
       "        vertical-align: top;\n",
       "    }\n",
       "\n",
       "    .dataframe thead th {\n",
       "        text-align: right;\n",
       "    }\n",
       "</style>\n",
       "<table border=\"1\" class=\"dataframe\">\n",
       "  <thead>\n",
       "    <tr style=\"text-align: right;\">\n",
       "      <th></th>\n",
       "      <th>table_id</th>\n",
       "      <th>field_full_name</th>\n",
       "    </tr>\n",
       "  </thead>\n",
       "  <tbody>\n",
       "    <tr>\n",
       "      <th>0</th>\n",
       "      <td>B02001e1</td>\n",
       "      <td>RACE: Total: Total population -- (Estimate)   ...</td>\n",
       "    </tr>\n",
       "    <tr>\n",
       "      <th>1</th>\n",
       "      <td>B02001e10</td>\n",
       "      <td>RACE: Two or more races: Two races excluding S...</td>\n",
       "    </tr>\n",
       "    <tr>\n",
       "      <th>2</th>\n",
       "      <td>B02001e2</td>\n",
       "      <td>RACE: White alone: Total population -- (Estima...</td>\n",
       "    </tr>\n",
       "    <tr>\n",
       "      <th>3</th>\n",
       "      <td>B02001e3</td>\n",
       "      <td>RACE: Black or African American alone: Total p...</td>\n",
       "    </tr>\n",
       "    <tr>\n",
       "      <th>4</th>\n",
       "      <td>B02001e4</td>\n",
       "      <td>RACE: American Indian and Alaska Native alone:...</td>\n",
       "    </tr>\n",
       "  </tbody>\n",
       "</table>\n",
       "</div>"
      ],
      "text/plain": [
       "      table_id                                    field_full_name\n",
       "0  B02001e1     RACE: Total: Total population -- (Estimate)   ...\n",
       "1  B02001e10    RACE: Two or more races: Two races excluding S...\n",
       "2  B02001e2     RACE: White alone: Total population -- (Estima...\n",
       "3  B02001e3     RACE: Black or African American alone: Total p...\n",
       "4  B02001e4     RACE: American Indian and Alaska Native alone:..."
      ]
     },
     "execution_count": 105,
     "metadata": {},
     "output_type": "execute_result"
    }
   ],
   "source": [
    "#importing table of just the preliminary set of columns I think I might be interested in (cleaned up from original in SQL)\n",
    "\n",
    "column_names_ids = pd.read_csv('..\\data\\safegraph_open_census_data\\metadata\\meta_data_working.csv')\n",
    "column_names_ids.head()"
   ]
  },
  {
   "cell_type": "code",
   "execution_count": 106,
   "metadata": {},
   "outputs": [
    {
     "data": {
      "text/plain": [
       "(220333, 1739)"
      ]
     },
     "execution_count": 106,
     "metadata": {},
     "output_type": "execute_result"
    }
   ],
   "source": [
    "test = pd.read_csv('..\\data\\safegraph_open_census_data\\data\\cbg_b25.csv')\n",
    "test.shape"
   ]
  },
  {
   "cell_type": "code",
   "execution_count": 107,
   "metadata": {},
   "outputs": [
    {
     "name": "stdout",
     "output_type": "stream",
     "text": [
      "['cbg_B02.csv', 'cbg_B02.csv', 'cbg_B02.csv', 'cbg_B02.csv', 'cbg_B02.csv', 'cbg_B02.csv', 'cbg_B02.csv', 'cbg_B02.csv', 'cbg_B02.csv', 'cbg_B02.csv', 'cbg_B02.csv', 'cbg_B02.csv', 'cbg_B02.csv', 'cbg_B02.csv', 'cbg_B02.csv', 'cbg_B02.csv', 'cbg_B02.csv', 'cbg_B02.csv', 'cbg_B02.csv', 'cbg_B02.csv', 'cbg_B03.csv', 'cbg_B03.csv', 'cbg_B03.csv', 'cbg_B03.csv', 'cbg_B03.csv', 'cbg_B03.csv', 'cbg_B03.csv', 'cbg_B03.csv', 'cbg_B03.csv', 'cbg_B03.csv', 'cbg_B03.csv', 'cbg_B03.csv', 'cbg_B03.csv', 'cbg_B03.csv', 'cbg_B03.csv', 'cbg_B03.csv', 'cbg_B03.csv', 'cbg_B03.csv', 'cbg_B03.csv', 'cbg_B03.csv', 'cbg_B03.csv', 'cbg_B03.csv', 'cbg_B03.csv', 'cbg_B03.csv', 'cbg_B03.csv', 'cbg_B03.csv', 'cbg_B03.csv', 'cbg_B03.csv', 'cbg_B03.csv', 'cbg_B03.csv', 'cbg_B03.csv', 'cbg_B03.csv', 'cbg_B03.csv', 'cbg_B03.csv', 'cbg_B03.csv', 'cbg_B03.csv', 'cbg_B03.csv', 'cbg_B03.csv', 'cbg_B03.csv', 'cbg_B03.csv', 'cbg_B03.csv', 'cbg_B03.csv', 'cbg_B03.csv', 'cbg_B03.csv', 'cbg_B03.csv', 'cbg_B03.csv', 'cbg_B03.csv', 'cbg_B03.csv', 'cbg_B19.csv', 'cbg_B19.csv', 'cbg_B19.csv', 'cbg_B19.csv', 'cbg_B19.csv', 'cbg_B19.csv', 'cbg_B19.csv', 'cbg_B19.csv', 'cbg_B19.csv', 'cbg_B19.csv', 'cbg_B19.csv', 'cbg_B19.csv', 'cbg_B19.csv', 'cbg_B19.csv', 'cbg_B19.csv', 'cbg_B19.csv', 'cbg_B19.csv', 'cbg_B19.csv', 'cbg_B19.csv', 'cbg_B19.csv', 'cbg_B19.csv', 'cbg_B19.csv', 'cbg_B19.csv', 'cbg_B19.csv', 'cbg_B19.csv', 'cbg_B19.csv', 'cbg_B19.csv', 'cbg_B19.csv', 'cbg_B19.csv', 'cbg_B19.csv', 'cbg_B19.csv', 'cbg_B19.csv', 'cbg_B19.csv', 'cbg_B19.csv', 'cbg_B25.csv', 'cbg_B25.csv', 'cbg_B25.csv', 'cbg_B25.csv', 'cbg_B25.csv', 'cbg_B25.csv', 'cbg_B25.csv', 'cbg_B25.csv', 'cbg_B25.csv', 'cbg_B25.csv', 'cbg_B25.csv', 'cbg_B25.csv', 'cbg_B25.csv', 'cbg_B25.csv', 'cbg_B25.csv', 'cbg_B25.csv', 'cbg_B25.csv', 'cbg_B25.csv', 'cbg_B25.csv', 'cbg_B25.csv', 'cbg_B25.csv', 'cbg_B25.csv', 'cbg_B25.csv', 'cbg_B25.csv', 'cbg_B25.csv', 'cbg_B25.csv', 'cbg_B25.csv', 'cbg_B25.csv', 'cbg_B25.csv', 'cbg_B25.csv', 'cbg_B25.csv', 'cbg_B25.csv', 'cbg_B25.csv', 'cbg_B25.csv', 'cbg_B25.csv', 'cbg_B25.csv', 'cbg_B25.csv', 'cbg_B25.csv', 'cbg_B25.csv', 'cbg_B25.csv', 'cbg_B25.csv', 'cbg_B25.csv', 'cbg_B25.csv', 'cbg_B25.csv', 'cbg_B25.csv', 'cbg_B25.csv', 'cbg_B25.csv', 'cbg_B25.csv', 'cbg_B25.csv', 'cbg_B25.csv', 'cbg_B25.csv', 'cbg_B25.csv', 'cbg_B25.csv', 'cbg_B25.csv', 'cbg_B25.csv', 'cbg_B25.csv', 'cbg_B25.csv', 'cbg_B25.csv', 'cbg_B25.csv', 'cbg_B25.csv', 'cbg_B25.csv', 'cbg_B25.csv', 'cbg_B25.csv', 'cbg_B25.csv', 'cbg_B25.csv', 'cbg_B25.csv', 'cbg_B25.csv', 'cbg_B25.csv', 'cbg_B25.csv', 'cbg_B25.csv', 'cbg_B25.csv', 'cbg_B25.csv', 'cbg_B25.csv', 'cbg_B25.csv', 'cbg_B25.csv', 'cbg_B25.csv', 'cbg_B25.csv', 'cbg_B25.csv', 'cbg_B25.csv', 'cbg_B25.csv', 'cbg_B25.csv', 'cbg_B25.csv', 'cbg_B25.csv', 'cbg_B25.csv', 'cbg_B25.csv', 'cbg_B25.csv', 'cbg_B25.csv', 'cbg_B25.csv', 'cbg_B25.csv', 'cbg_B25.csv', 'cbg_B25.csv', 'cbg_B25.csv', 'cbg_B25.csv', 'cbg_B25.csv', 'cbg_B25.csv', 'cbg_B25.csv', 'cbg_B25.csv', 'cbg_B25.csv', 'cbg_B25.csv', 'cbg_B25.csv', 'cbg_B25.csv', 'cbg_B25.csv', 'cbg_B25.csv', 'cbg_B25.csv', 'cbg_B25.csv', 'cbg_B25.csv', 'cbg_B25.csv', 'cbg_B25.csv', 'cbg_B25.csv', 'cbg_B25.csv', 'cbg_B25.csv', 'cbg_B25.csv', 'cbg_B25.csv', 'cbg_B25.csv', 'cbg_B25.csv', 'cbg_B25.csv', 'cbg_B25.csv', 'cbg_B25.csv', 'cbg_B25.csv', 'cbg_B25.csv', 'cbg_B25.csv', 'cbg_B25.csv', 'cbg_B25.csv', 'cbg_B25.csv', 'cbg_B25.csv', 'cbg_B25.csv', 'cbg_B25.csv', 'cbg_B25.csv']\n"
     ]
    }
   ],
   "source": [
    "#creating a list of all the csvs I need based on the table_id information\n",
    "\n",
    "column_names = []\n",
    "\n",
    "for index, rows in column_names_ids.iterrows():\n",
    "    \n",
    "    column_list = ('cbg_' + rows.table_id[0:3] + '.csv')\n",
    "    \n",
    "    column_names.append(column_list)\n",
    "    \n",
    "print(column_names)    "
   ]
  },
  {
   "cell_type": "code",
   "execution_count": 108,
   "metadata": {},
   "outputs": [
    {
     "name": "stdout",
     "output_type": "stream",
     "text": [
      "['cbg_B25.csv', 'cbg_B03.csv', 'cbg_B19.csv', 'cbg_B02.csv']\n"
     ]
    }
   ],
   "source": [
    "#getting rid of duplicates\n",
    "\n",
    "column_names_fin = list(set(column_names))\n",
    "print(column_names_fin)"
   ]
  },
  {
   "cell_type": "code",
   "execution_count": 109,
   "metadata": {},
   "outputs": [
    {
     "data": {
      "text/html": [
       "<div>\n",
       "<style scoped>\n",
       "    .dataframe tbody tr th:only-of-type {\n",
       "        vertical-align: middle;\n",
       "    }\n",
       "\n",
       "    .dataframe tbody tr th {\n",
       "        vertical-align: top;\n",
       "    }\n",
       "\n",
       "    .dataframe thead th {\n",
       "        text-align: right;\n",
       "    }\n",
       "</style>\n",
       "<table border=\"1\" class=\"dataframe\">\n",
       "  <thead>\n",
       "    <tr style=\"text-align: right;\">\n",
       "      <th></th>\n",
       "      <th>census_block_group</th>\n",
       "      <th>B25001e1</th>\n",
       "      <th>B25001m1</th>\n",
       "      <th>B25002e1</th>\n",
       "      <th>B25002m1</th>\n",
       "      <th>B25002e2</th>\n",
       "      <th>B25002m2</th>\n",
       "      <th>B25002e3</th>\n",
       "      <th>B25002m3</th>\n",
       "      <th>B25003e1</th>\n",
       "      <th>...</th>\n",
       "      <th>C02003e15</th>\n",
       "      <th>C02003m15</th>\n",
       "      <th>C02003e16</th>\n",
       "      <th>C02003m16</th>\n",
       "      <th>C02003e17</th>\n",
       "      <th>C02003m17</th>\n",
       "      <th>C02003e18</th>\n",
       "      <th>C02003m18</th>\n",
       "      <th>C02003e19</th>\n",
       "      <th>C02003m19</th>\n",
       "    </tr>\n",
       "  </thead>\n",
       "  <tbody>\n",
       "    <tr>\n",
       "      <th>0</th>\n",
       "      <td>10010201001</td>\n",
       "      <td>284</td>\n",
       "      <td>53</td>\n",
       "      <td>284</td>\n",
       "      <td>53</td>\n",
       "      <td>284</td>\n",
       "      <td>53</td>\n",
       "      <td>0</td>\n",
       "      <td>11</td>\n",
       "      <td>284</td>\n",
       "      <td>...</td>\n",
       "      <td>0</td>\n",
       "      <td>11</td>\n",
       "      <td>0</td>\n",
       "      <td>11</td>\n",
       "      <td>0</td>\n",
       "      <td>11</td>\n",
       "      <td>0</td>\n",
       "      <td>11</td>\n",
       "      <td>0</td>\n",
       "      <td>11</td>\n",
       "    </tr>\n",
       "    <tr>\n",
       "      <th>1</th>\n",
       "      <td>10010201002</td>\n",
       "      <td>467</td>\n",
       "      <td>62</td>\n",
       "      <td>467</td>\n",
       "      <td>62</td>\n",
       "      <td>456</td>\n",
       "      <td>64</td>\n",
       "      <td>11</td>\n",
       "      <td>17</td>\n",
       "      <td>456</td>\n",
       "      <td>...</td>\n",
       "      <td>8</td>\n",
       "      <td>14</td>\n",
       "      <td>0</td>\n",
       "      <td>11</td>\n",
       "      <td>21</td>\n",
       "      <td>33</td>\n",
       "      <td>0</td>\n",
       "      <td>11</td>\n",
       "      <td>0</td>\n",
       "      <td>11</td>\n",
       "    </tr>\n",
       "    <tr>\n",
       "      <th>2</th>\n",
       "      <td>10010202001</td>\n",
       "      <td>398</td>\n",
       "      <td>80</td>\n",
       "      <td>398</td>\n",
       "      <td>80</td>\n",
       "      <td>386</td>\n",
       "      <td>78</td>\n",
       "      <td>12</td>\n",
       "      <td>18</td>\n",
       "      <td>386</td>\n",
       "      <td>...</td>\n",
       "      <td>18</td>\n",
       "      <td>30</td>\n",
       "      <td>0</td>\n",
       "      <td>11</td>\n",
       "      <td>0</td>\n",
       "      <td>11</td>\n",
       "      <td>0</td>\n",
       "      <td>11</td>\n",
       "      <td>0</td>\n",
       "      <td>11</td>\n",
       "    </tr>\n",
       "    <tr>\n",
       "      <th>3</th>\n",
       "      <td>10010202002</td>\n",
       "      <td>492</td>\n",
       "      <td>91</td>\n",
       "      <td>492</td>\n",
       "      <td>91</td>\n",
       "      <td>452</td>\n",
       "      <td>85</td>\n",
       "      <td>40</td>\n",
       "      <td>42</td>\n",
       "      <td>452</td>\n",
       "      <td>...</td>\n",
       "      <td>0</td>\n",
       "      <td>11</td>\n",
       "      <td>0</td>\n",
       "      <td>11</td>\n",
       "      <td>0</td>\n",
       "      <td>11</td>\n",
       "      <td>0</td>\n",
       "      <td>11</td>\n",
       "      <td>0</td>\n",
       "      <td>11</td>\n",
       "    </tr>\n",
       "    <tr>\n",
       "      <th>4</th>\n",
       "      <td>10010203001</td>\n",
       "      <td>1023</td>\n",
       "      <td>92</td>\n",
       "      <td>1023</td>\n",
       "      <td>92</td>\n",
       "      <td>824</td>\n",
       "      <td>108</td>\n",
       "      <td>199</td>\n",
       "      <td>98</td>\n",
       "      <td>824</td>\n",
       "      <td>...</td>\n",
       "      <td>5</td>\n",
       "      <td>10</td>\n",
       "      <td>0</td>\n",
       "      <td>11</td>\n",
       "      <td>56</td>\n",
       "      <td>95</td>\n",
       "      <td>0</td>\n",
       "      <td>11</td>\n",
       "      <td>0</td>\n",
       "      <td>11</td>\n",
       "    </tr>\n",
       "  </tbody>\n",
       "</table>\n",
       "<p>5 rows × 2260 columns</p>\n",
       "</div>"
      ],
      "text/plain": [
       "   census_block_group  B25001e1  B25001m1  B25002e1  B25002m1  B25002e2  \\\n",
       "0         10010201001       284        53       284        53       284   \n",
       "1         10010201002       467        62       467        62       456   \n",
       "2         10010202001       398        80       398        80       386   \n",
       "3         10010202002       492        91       492        91       452   \n",
       "4         10010203001      1023        92      1023        92       824   \n",
       "\n",
       "   B25002m2  B25002e3  B25002m3  B25003e1  ...  C02003e15  C02003m15  \\\n",
       "0        53         0        11       284  ...          0         11   \n",
       "1        64        11        17       456  ...          8         14   \n",
       "2        78        12        18       386  ...         18         30   \n",
       "3        85        40        42       452  ...          0         11   \n",
       "4       108       199        98       824  ...          5         10   \n",
       "\n",
       "   C02003e16  C02003m16  C02003e17  C02003m17  C02003e18  C02003m18  \\\n",
       "0          0         11          0         11          0         11   \n",
       "1          0         11         21         33          0         11   \n",
       "2          0         11          0         11          0         11   \n",
       "3          0         11          0         11          0         11   \n",
       "4          0         11         56         95          0         11   \n",
       "\n",
       "   C02003e19  C02003m19  \n",
       "0          0         11  \n",
       "1          0         11  \n",
       "2          0         11  \n",
       "3          0         11  \n",
       "4          0         11  \n",
       "\n",
       "[5 rows x 2260 columns]"
      ]
     },
     "execution_count": 109,
     "metadata": {},
     "output_type": "execute_result"
    }
   ],
   "source": [
    "#importing relevant csvs and putting them together in one df\n",
    "\n",
    "csvs = []\n",
    "for i in column_names_fin:\n",
    "    csvs.append(pd.read_csv('..\\data\\safegraph_open_census_data\\data\\\\' + i))\n",
    "\n",
    "demographics = pd.concat(csvs, axis = 1)\n",
    "\n",
    "demographics.head()"
   ]
  },
  {
   "cell_type": "code",
   "execution_count": 110,
   "metadata": {},
   "outputs": [],
   "source": [
    "#all of the columns I need from this df\n",
    "\n",
    "column_names_ids = column_names_ids['table_id'], 'census_block_group'"
   ]
  },
  {
   "cell_type": "code",
   "execution_count": 111,
   "metadata": {},
   "outputs": [
    {
     "ename": "TypeError",
     "evalue": "tuple indices must be integers or slices, not str",
     "output_type": "error",
     "traceback": [
      "\u001b[1;31m---------------------------------------------------------------------------\u001b[0m",
      "\u001b[1;31mTypeError\u001b[0m                                 Traceback (most recent call last)",
      "\u001b[1;32m<ipython-input-111-0db8f95d9d8b>\u001b[0m in \u001b[0;36m<module>\u001b[1;34m\u001b[0m\n\u001b[0;32m      1\u001b[0m \u001b[1;31m#taking of spaces at the end of column names\u001b[0m\u001b[1;33m\u001b[0m\u001b[1;33m\u001b[0m\u001b[1;33m\u001b[0m\u001b[0m\n\u001b[0;32m      2\u001b[0m \u001b[1;33m\u001b[0m\u001b[0m\n\u001b[1;32m----> 3\u001b[1;33m \u001b[0mcleaned_col_names\u001b[0m \u001b[1;33m=\u001b[0m \u001b[1;33m[\u001b[0m\u001b[0mcol_name\u001b[0m\u001b[1;33m.\u001b[0m\u001b[0mstrip\u001b[0m\u001b[1;33m(\u001b[0m\u001b[1;33m)\u001b[0m \u001b[1;32mfor\u001b[0m \u001b[0mcol_name\u001b[0m \u001b[1;32min\u001b[0m \u001b[0mcolumn_names_ids\u001b[0m\u001b[1;33m[\u001b[0m\u001b[1;34m'table_id'\u001b[0m\u001b[1;33m]\u001b[0m\u001b[1;33m]\u001b[0m\u001b[1;33m\u001b[0m\u001b[1;33m\u001b[0m\u001b[0m\n\u001b[0m",
      "\u001b[1;31mTypeError\u001b[0m: tuple indices must be integers or slices, not str"
     ]
    }
   ],
   "source": [
    "#taking of spaces at the end of column names\n",
    "\n",
    "cleaned_col_names = [col_name.strip() for col_name in column_names_ids['table_id']]"
   ]
  },
  {
   "cell_type": "code",
   "execution_count": null,
   "metadata": {},
   "outputs": [],
   "source": [
    "#keeping only columns I need\n",
    "\n",
    "demographics2 = demographics[cleaned_col_names]\n",
    "demographics2.head()"
   ]
  },
  {
   "cell_type": "code",
   "execution_count": null,
   "metadata": {},
   "outputs": [],
   "source": [
    "#creating a list of descriptive column names for replacement\n",
    "\n",
    "column_headers = []\n",
    "\n",
    "for index, rows in column_names_ids.iterrows():\n",
    "    \n",
    "    column_headers_list = (rows.field_full_name)\n",
    "    \n",
    "    column_headers.append(column_headers_list)\n",
    "    \n",
    "print(column_headers) "
   ]
  },
  {
   "cell_type": "code",
   "execution_count": null,
   "metadata": {},
   "outputs": [],
   "source": [
    "#matching up columns with their descriptive names\n",
    "\n",
    "demographics2.columns = [column_headers]\n",
    "demographics2.head()"
   ]
  },
  {
   "cell_type": "code",
   "execution_count": null,
   "metadata": {},
   "outputs": [],
   "source": [
    "demographics2.shape"
   ]
  },
  {
   "cell_type": "code",
   "execution_count": null,
   "metadata": {},
   "outputs": [],
   "source": [
    "#initial drop of Margin of Error columns\n",
    "\n",
    "demog2 = demographics2[demographics2.columns.drop(list(demographics2.filter(regex='Margin of Error')))]\n",
    "demog2.shape"
   ]
  },
  {
   "cell_type": "code",
   "execution_count": null,
   "metadata": {},
   "outputs": [],
   "source": [
    "demog2.columns"
   ]
  },
  {
   "cell_type": "code",
   "execution_count": null,
   "metadata": {},
   "outputs": [],
   "source": [
    "#look at new columns, getting rid of weird extra nothing after comma\n",
    "\n",
    "clean_cols = [col[0].rstrip() for col in demog2.columns]"
   ]
  },
  {
   "cell_type": "code",
   "execution_count": null,
   "metadata": {},
   "outputs": [],
   "source": [
    "#reassigning column names to cleaned up version\n",
    "\n",
    "demog2.columns = clean_cols"
   ]
  },
  {
   "cell_type": "code",
   "execution_count": null,
   "metadata": {},
   "outputs": [],
   "source": [
    "block_number = demographics"
   ]
  },
  {
   "cell_type": "code",
   "execution_count": 113,
   "metadata": {},
   "outputs": [
    {
     "ename": "MemoryError",
     "evalue": "Unable to allocate 3.09 GiB for an array with shape (1880, 220333) and data type int64",
     "output_type": "error",
     "traceback": [
      "\u001b[1;31m---------------------------------------------------------------------------\u001b[0m",
      "\u001b[1;31mMemoryError\u001b[0m                               Traceback (most recent call last)",
      "\u001b[1;32m<ipython-input-113-951feecc3e99>\u001b[0m in \u001b[0;36m<module>\u001b[1;34m\u001b[0m\n\u001b[1;32m----> 1\u001b[1;33m \u001b[0mnew_race\u001b[0m \u001b[1;33m=\u001b[0m \u001b[0mpd\u001b[0m\u001b[1;33m.\u001b[0m\u001b[0mconcat\u001b[0m\u001b[1;33m(\u001b[0m\u001b[1;33m[\u001b[0m\u001b[0mdemog2\u001b[0m\u001b[1;33m,\u001b[0m \u001b[0mdemographics\u001b[0m\u001b[1;33m]\u001b[0m\u001b[1;33m)\u001b[0m\u001b[1;33m\u001b[0m\u001b[1;33m\u001b[0m\u001b[0m\n\u001b[0m\u001b[0;32m      2\u001b[0m \u001b[0mnew_race\u001b[0m\u001b[1;33m.\u001b[0m\u001b[0mhead\u001b[0m\u001b[1;33m(\u001b[0m\u001b[1;33m)\u001b[0m\u001b[1;33m\u001b[0m\u001b[1;33m\u001b[0m\u001b[0m\n",
      "\u001b[1;32m~\\anaconda3\\envs\\geospatial\\lib\\site-packages\\pandas\\core\\reshape\\concat.py\u001b[0m in \u001b[0;36mconcat\u001b[1;34m(objs, axis, join, ignore_index, keys, levels, names, verify_integrity, sort, copy)\u001b[0m\n\u001b[0;32m    279\u001b[0m         \u001b[0mverify_integrity\u001b[0m\u001b[1;33m=\u001b[0m\u001b[0mverify_integrity\u001b[0m\u001b[1;33m,\u001b[0m\u001b[1;33m\u001b[0m\u001b[1;33m\u001b[0m\u001b[0m\n\u001b[0;32m    280\u001b[0m         \u001b[0mcopy\u001b[0m\u001b[1;33m=\u001b[0m\u001b[0mcopy\u001b[0m\u001b[1;33m,\u001b[0m\u001b[1;33m\u001b[0m\u001b[1;33m\u001b[0m\u001b[0m\n\u001b[1;32m--> 281\u001b[1;33m         \u001b[0msort\u001b[0m\u001b[1;33m=\u001b[0m\u001b[0msort\u001b[0m\u001b[1;33m,\u001b[0m\u001b[1;33m\u001b[0m\u001b[1;33m\u001b[0m\u001b[0m\n\u001b[0m\u001b[0;32m    282\u001b[0m     )\n\u001b[0;32m    283\u001b[0m \u001b[1;33m\u001b[0m\u001b[0m\n",
      "\u001b[1;32m~\\anaconda3\\envs\\geospatial\\lib\\site-packages\\pandas\\core\\reshape\\concat.py\u001b[0m in \u001b[0;36m__init__\u001b[1;34m(self, objs, axis, join, keys, levels, names, ignore_index, verify_integrity, copy, sort)\u001b[0m\n\u001b[0;32m    358\u001b[0m \u001b[1;33m\u001b[0m\u001b[0m\n\u001b[0;32m    359\u001b[0m             \u001b[1;31m# consolidate\u001b[0m\u001b[1;33m\u001b[0m\u001b[1;33m\u001b[0m\u001b[1;33m\u001b[0m\u001b[0m\n\u001b[1;32m--> 360\u001b[1;33m             \u001b[0mobj\u001b[0m\u001b[1;33m.\u001b[0m\u001b[0m_consolidate\u001b[0m\u001b[1;33m(\u001b[0m\u001b[0minplace\u001b[0m\u001b[1;33m=\u001b[0m\u001b[1;32mTrue\u001b[0m\u001b[1;33m)\u001b[0m\u001b[1;33m\u001b[0m\u001b[1;33m\u001b[0m\u001b[0m\n\u001b[0m\u001b[0;32m    361\u001b[0m             \u001b[0mndims\u001b[0m\u001b[1;33m.\u001b[0m\u001b[0madd\u001b[0m\u001b[1;33m(\u001b[0m\u001b[0mobj\u001b[0m\u001b[1;33m.\u001b[0m\u001b[0mndim\u001b[0m\u001b[1;33m)\u001b[0m\u001b[1;33m\u001b[0m\u001b[1;33m\u001b[0m\u001b[0m\n\u001b[0;32m    362\u001b[0m \u001b[1;33m\u001b[0m\u001b[0m\n",
      "\u001b[1;32m~\\anaconda3\\envs\\geospatial\\lib\\site-packages\\pandas\\core\\generic.py\u001b[0m in \u001b[0;36m_consolidate\u001b[1;34m(self, inplace)\u001b[0m\n\u001b[0;32m   5363\u001b[0m         \u001b[0minplace\u001b[0m \u001b[1;33m=\u001b[0m \u001b[0mvalidate_bool_kwarg\u001b[0m\u001b[1;33m(\u001b[0m\u001b[0minplace\u001b[0m\u001b[1;33m,\u001b[0m \u001b[1;34m\"inplace\"\u001b[0m\u001b[1;33m)\u001b[0m\u001b[1;33m\u001b[0m\u001b[1;33m\u001b[0m\u001b[0m\n\u001b[0;32m   5364\u001b[0m         \u001b[1;32mif\u001b[0m \u001b[0minplace\u001b[0m\u001b[1;33m:\u001b[0m\u001b[1;33m\u001b[0m\u001b[1;33m\u001b[0m\u001b[0m\n\u001b[1;32m-> 5365\u001b[1;33m             \u001b[0mself\u001b[0m\u001b[1;33m.\u001b[0m\u001b[0m_consolidate_inplace\u001b[0m\u001b[1;33m(\u001b[0m\u001b[1;33m)\u001b[0m\u001b[1;33m\u001b[0m\u001b[1;33m\u001b[0m\u001b[0m\n\u001b[0m\u001b[0;32m   5366\u001b[0m         \u001b[1;32melse\u001b[0m\u001b[1;33m:\u001b[0m\u001b[1;33m\u001b[0m\u001b[1;33m\u001b[0m\u001b[0m\n\u001b[0;32m   5367\u001b[0m             \u001b[0mf\u001b[0m \u001b[1;33m=\u001b[0m \u001b[1;32mlambda\u001b[0m\u001b[1;33m:\u001b[0m \u001b[0mself\u001b[0m\u001b[1;33m.\u001b[0m\u001b[0m_data\u001b[0m\u001b[1;33m.\u001b[0m\u001b[0mconsolidate\u001b[0m\u001b[1;33m(\u001b[0m\u001b[1;33m)\u001b[0m\u001b[1;33m\u001b[0m\u001b[1;33m\u001b[0m\u001b[0m\n",
      "\u001b[1;32m~\\anaconda3\\envs\\geospatial\\lib\\site-packages\\pandas\\core\\generic.py\u001b[0m in \u001b[0;36m_consolidate_inplace\u001b[1;34m(self)\u001b[0m\n\u001b[0;32m   5345\u001b[0m             \u001b[0mself\u001b[0m\u001b[1;33m.\u001b[0m\u001b[0m_data\u001b[0m \u001b[1;33m=\u001b[0m \u001b[0mself\u001b[0m\u001b[1;33m.\u001b[0m\u001b[0m_data\u001b[0m\u001b[1;33m.\u001b[0m\u001b[0mconsolidate\u001b[0m\u001b[1;33m(\u001b[0m\u001b[1;33m)\u001b[0m\u001b[1;33m\u001b[0m\u001b[1;33m\u001b[0m\u001b[0m\n\u001b[0;32m   5346\u001b[0m \u001b[1;33m\u001b[0m\u001b[0m\n\u001b[1;32m-> 5347\u001b[1;33m         \u001b[0mself\u001b[0m\u001b[1;33m.\u001b[0m\u001b[0m_protect_consolidate\u001b[0m\u001b[1;33m(\u001b[0m\u001b[0mf\u001b[0m\u001b[1;33m)\u001b[0m\u001b[1;33m\u001b[0m\u001b[1;33m\u001b[0m\u001b[0m\n\u001b[0m\u001b[0;32m   5348\u001b[0m \u001b[1;33m\u001b[0m\u001b[0m\n\u001b[0;32m   5349\u001b[0m     \u001b[1;32mdef\u001b[0m \u001b[0m_consolidate\u001b[0m\u001b[1;33m(\u001b[0m\u001b[0mself\u001b[0m\u001b[1;33m,\u001b[0m \u001b[0minplace\u001b[0m\u001b[1;33m:\u001b[0m \u001b[0mbool_t\u001b[0m \u001b[1;33m=\u001b[0m \u001b[1;32mFalse\u001b[0m\u001b[1;33m)\u001b[0m\u001b[1;33m:\u001b[0m\u001b[1;33m\u001b[0m\u001b[1;33m\u001b[0m\u001b[0m\n",
      "\u001b[1;32m~\\anaconda3\\envs\\geospatial\\lib\\site-packages\\pandas\\core\\generic.py\u001b[0m in \u001b[0;36m_protect_consolidate\u001b[1;34m(self, f)\u001b[0m\n\u001b[0;32m   5334\u001b[0m         \"\"\"\n\u001b[0;32m   5335\u001b[0m         \u001b[0mblocks_before\u001b[0m \u001b[1;33m=\u001b[0m \u001b[0mlen\u001b[0m\u001b[1;33m(\u001b[0m\u001b[0mself\u001b[0m\u001b[1;33m.\u001b[0m\u001b[0m_data\u001b[0m\u001b[1;33m.\u001b[0m\u001b[0mblocks\u001b[0m\u001b[1;33m)\u001b[0m\u001b[1;33m\u001b[0m\u001b[1;33m\u001b[0m\u001b[0m\n\u001b[1;32m-> 5336\u001b[1;33m         \u001b[0mresult\u001b[0m \u001b[1;33m=\u001b[0m \u001b[0mf\u001b[0m\u001b[1;33m(\u001b[0m\u001b[1;33m)\u001b[0m\u001b[1;33m\u001b[0m\u001b[1;33m\u001b[0m\u001b[0m\n\u001b[0m\u001b[0;32m   5337\u001b[0m         \u001b[1;32mif\u001b[0m \u001b[0mlen\u001b[0m\u001b[1;33m(\u001b[0m\u001b[0mself\u001b[0m\u001b[1;33m.\u001b[0m\u001b[0m_data\u001b[0m\u001b[1;33m.\u001b[0m\u001b[0mblocks\u001b[0m\u001b[1;33m)\u001b[0m \u001b[1;33m!=\u001b[0m \u001b[0mblocks_before\u001b[0m\u001b[1;33m:\u001b[0m\u001b[1;33m\u001b[0m\u001b[1;33m\u001b[0m\u001b[0m\n\u001b[0;32m   5338\u001b[0m             \u001b[0mself\u001b[0m\u001b[1;33m.\u001b[0m\u001b[0m_clear_item_cache\u001b[0m\u001b[1;33m(\u001b[0m\u001b[1;33m)\u001b[0m\u001b[1;33m\u001b[0m\u001b[1;33m\u001b[0m\u001b[0m\n",
      "\u001b[1;32m~\\anaconda3\\envs\\geospatial\\lib\\site-packages\\pandas\\core\\generic.py\u001b[0m in \u001b[0;36mf\u001b[1;34m()\u001b[0m\n\u001b[0;32m   5343\u001b[0m \u001b[1;33m\u001b[0m\u001b[0m\n\u001b[0;32m   5344\u001b[0m         \u001b[1;32mdef\u001b[0m \u001b[0mf\u001b[0m\u001b[1;33m(\u001b[0m\u001b[1;33m)\u001b[0m\u001b[1;33m:\u001b[0m\u001b[1;33m\u001b[0m\u001b[1;33m\u001b[0m\u001b[0m\n\u001b[1;32m-> 5345\u001b[1;33m             \u001b[0mself\u001b[0m\u001b[1;33m.\u001b[0m\u001b[0m_data\u001b[0m \u001b[1;33m=\u001b[0m \u001b[0mself\u001b[0m\u001b[1;33m.\u001b[0m\u001b[0m_data\u001b[0m\u001b[1;33m.\u001b[0m\u001b[0mconsolidate\u001b[0m\u001b[1;33m(\u001b[0m\u001b[1;33m)\u001b[0m\u001b[1;33m\u001b[0m\u001b[1;33m\u001b[0m\u001b[0m\n\u001b[0m\u001b[0;32m   5346\u001b[0m \u001b[1;33m\u001b[0m\u001b[0m\n\u001b[0;32m   5347\u001b[0m         \u001b[0mself\u001b[0m\u001b[1;33m.\u001b[0m\u001b[0m_protect_consolidate\u001b[0m\u001b[1;33m(\u001b[0m\u001b[0mf\u001b[0m\u001b[1;33m)\u001b[0m\u001b[1;33m\u001b[0m\u001b[1;33m\u001b[0m\u001b[0m\n",
      "\u001b[1;32m~\\anaconda3\\envs\\geospatial\\lib\\site-packages\\pandas\\core\\internals\\managers.py\u001b[0m in \u001b[0;36mconsolidate\u001b[1;34m(self)\u001b[0m\n\u001b[0;32m    938\u001b[0m         \u001b[0mbm\u001b[0m \u001b[1;33m=\u001b[0m \u001b[0mtype\u001b[0m\u001b[1;33m(\u001b[0m\u001b[0mself\u001b[0m\u001b[1;33m)\u001b[0m\u001b[1;33m(\u001b[0m\u001b[0mself\u001b[0m\u001b[1;33m.\u001b[0m\u001b[0mblocks\u001b[0m\u001b[1;33m,\u001b[0m \u001b[0mself\u001b[0m\u001b[1;33m.\u001b[0m\u001b[0maxes\u001b[0m\u001b[1;33m)\u001b[0m\u001b[1;33m\u001b[0m\u001b[1;33m\u001b[0m\u001b[0m\n\u001b[0;32m    939\u001b[0m         \u001b[0mbm\u001b[0m\u001b[1;33m.\u001b[0m\u001b[0m_is_consolidated\u001b[0m \u001b[1;33m=\u001b[0m \u001b[1;32mFalse\u001b[0m\u001b[1;33m\u001b[0m\u001b[1;33m\u001b[0m\u001b[0m\n\u001b[1;32m--> 940\u001b[1;33m         \u001b[0mbm\u001b[0m\u001b[1;33m.\u001b[0m\u001b[0m_consolidate_inplace\u001b[0m\u001b[1;33m(\u001b[0m\u001b[1;33m)\u001b[0m\u001b[1;33m\u001b[0m\u001b[1;33m\u001b[0m\u001b[0m\n\u001b[0m\u001b[0;32m    941\u001b[0m         \u001b[1;32mreturn\u001b[0m \u001b[0mbm\u001b[0m\u001b[1;33m\u001b[0m\u001b[1;33m\u001b[0m\u001b[0m\n\u001b[0;32m    942\u001b[0m \u001b[1;33m\u001b[0m\u001b[0m\n",
      "\u001b[1;32m~\\anaconda3\\envs\\geospatial\\lib\\site-packages\\pandas\\core\\internals\\managers.py\u001b[0m in \u001b[0;36m_consolidate_inplace\u001b[1;34m(self)\u001b[0m\n\u001b[0;32m    943\u001b[0m     \u001b[1;32mdef\u001b[0m \u001b[0m_consolidate_inplace\u001b[0m\u001b[1;33m(\u001b[0m\u001b[0mself\u001b[0m\u001b[1;33m)\u001b[0m\u001b[1;33m:\u001b[0m\u001b[1;33m\u001b[0m\u001b[1;33m\u001b[0m\u001b[0m\n\u001b[0;32m    944\u001b[0m         \u001b[1;32mif\u001b[0m \u001b[1;32mnot\u001b[0m \u001b[0mself\u001b[0m\u001b[1;33m.\u001b[0m\u001b[0mis_consolidated\u001b[0m\u001b[1;33m(\u001b[0m\u001b[1;33m)\u001b[0m\u001b[1;33m:\u001b[0m\u001b[1;33m\u001b[0m\u001b[1;33m\u001b[0m\u001b[0m\n\u001b[1;32m--> 945\u001b[1;33m             \u001b[0mself\u001b[0m\u001b[1;33m.\u001b[0m\u001b[0mblocks\u001b[0m \u001b[1;33m=\u001b[0m \u001b[0mtuple\u001b[0m\u001b[1;33m(\u001b[0m\u001b[0m_consolidate\u001b[0m\u001b[1;33m(\u001b[0m\u001b[0mself\u001b[0m\u001b[1;33m.\u001b[0m\u001b[0mblocks\u001b[0m\u001b[1;33m)\u001b[0m\u001b[1;33m)\u001b[0m\u001b[1;33m\u001b[0m\u001b[1;33m\u001b[0m\u001b[0m\n\u001b[0m\u001b[0;32m    946\u001b[0m             \u001b[0mself\u001b[0m\u001b[1;33m.\u001b[0m\u001b[0m_is_consolidated\u001b[0m \u001b[1;33m=\u001b[0m \u001b[1;32mTrue\u001b[0m\u001b[1;33m\u001b[0m\u001b[1;33m\u001b[0m\u001b[0m\n\u001b[0;32m    947\u001b[0m             \u001b[0mself\u001b[0m\u001b[1;33m.\u001b[0m\u001b[0m_known_consolidated\u001b[0m \u001b[1;33m=\u001b[0m \u001b[1;32mTrue\u001b[0m\u001b[1;33m\u001b[0m\u001b[1;33m\u001b[0m\u001b[0m\n",
      "\u001b[1;32m~\\anaconda3\\envs\\geospatial\\lib\\site-packages\\pandas\\core\\internals\\managers.py\u001b[0m in \u001b[0;36m_consolidate\u001b[1;34m(blocks)\u001b[0m\n\u001b[0;32m   1885\u001b[0m     \u001b[1;32mfor\u001b[0m \u001b[1;33m(\u001b[0m\u001b[0m_can_consolidate\u001b[0m\u001b[1;33m,\u001b[0m \u001b[0mdtype\u001b[0m\u001b[1;33m)\u001b[0m\u001b[1;33m,\u001b[0m \u001b[0mgroup_blocks\u001b[0m \u001b[1;32min\u001b[0m \u001b[0mgrouper\u001b[0m\u001b[1;33m:\u001b[0m\u001b[1;33m\u001b[0m\u001b[1;33m\u001b[0m\u001b[0m\n\u001b[0;32m   1886\u001b[0m         merged_blocks = _merge_blocks(\n\u001b[1;32m-> 1887\u001b[1;33m             \u001b[0mlist\u001b[0m\u001b[1;33m(\u001b[0m\u001b[0mgroup_blocks\u001b[0m\u001b[1;33m)\u001b[0m\u001b[1;33m,\u001b[0m \u001b[0mdtype\u001b[0m\u001b[1;33m=\u001b[0m\u001b[0mdtype\u001b[0m\u001b[1;33m,\u001b[0m \u001b[0m_can_consolidate\u001b[0m\u001b[1;33m=\u001b[0m\u001b[0m_can_consolidate\u001b[0m\u001b[1;33m\u001b[0m\u001b[1;33m\u001b[0m\u001b[0m\n\u001b[0m\u001b[0;32m   1888\u001b[0m         )\n\u001b[0;32m   1889\u001b[0m         \u001b[0mnew_blocks\u001b[0m \u001b[1;33m=\u001b[0m \u001b[0m_extend_blocks\u001b[0m\u001b[1;33m(\u001b[0m\u001b[0mmerged_blocks\u001b[0m\u001b[1;33m,\u001b[0m \u001b[0mnew_blocks\u001b[0m\u001b[1;33m)\u001b[0m\u001b[1;33m\u001b[0m\u001b[1;33m\u001b[0m\u001b[0m\n",
      "\u001b[1;32m~\\anaconda3\\envs\\geospatial\\lib\\site-packages\\pandas\\core\\internals\\blocks.py\u001b[0m in \u001b[0;36m_merge_blocks\u001b[1;34m(blocks, dtype, _can_consolidate)\u001b[0m\n\u001b[0;32m   3100\u001b[0m \u001b[1;33m\u001b[0m\u001b[0m\n\u001b[0;32m   3101\u001b[0m         \u001b[0margsort\u001b[0m \u001b[1;33m=\u001b[0m \u001b[0mnp\u001b[0m\u001b[1;33m.\u001b[0m\u001b[0margsort\u001b[0m\u001b[1;33m(\u001b[0m\u001b[0mnew_mgr_locs\u001b[0m\u001b[1;33m)\u001b[0m\u001b[1;33m\u001b[0m\u001b[1;33m\u001b[0m\u001b[0m\n\u001b[1;32m-> 3102\u001b[1;33m         \u001b[0mnew_values\u001b[0m \u001b[1;33m=\u001b[0m \u001b[0mnew_values\u001b[0m\u001b[1;33m[\u001b[0m\u001b[0margsort\u001b[0m\u001b[1;33m]\u001b[0m\u001b[1;33m\u001b[0m\u001b[1;33m\u001b[0m\u001b[0m\n\u001b[0m\u001b[0;32m   3103\u001b[0m         \u001b[0mnew_mgr_locs\u001b[0m \u001b[1;33m=\u001b[0m \u001b[0mnew_mgr_locs\u001b[0m\u001b[1;33m[\u001b[0m\u001b[0margsort\u001b[0m\u001b[1;33m]\u001b[0m\u001b[1;33m\u001b[0m\u001b[1;33m\u001b[0m\u001b[0m\n\u001b[0;32m   3104\u001b[0m \u001b[1;33m\u001b[0m\u001b[0m\n",
      "\u001b[1;31mMemoryError\u001b[0m: Unable to allocate 3.09 GiB for an array with shape (1880, 220333) and data type int64"
     ]
    }
   ],
   "source": [
    "new_race = pd.concat([demog2, demographics])\n",
    "new_race.head()"
   ]
  },
  {
   "cell_type": "code",
   "execution_count": null,
   "metadata": {},
   "outputs": [],
   "source": [
    "#picking just columns I want for race df\n",
    "\n",
    "demog_race = demog2[['census_block_group',\n",
    "                     'RACE: Total: Total population -- (Estimate)', \n",
    "                     'RACE: Two or more races: Two races excluding Some other race, and three or more races: Total population -- (Estimate)',\n",
    "                     'RACE: White alone: Total population -- (Estimate)','RACE: Black or African American alone: Total population -- (Estimate)',\n",
    "                     'RACE: American Indian and Alaska Native alone: Total population -- (Estimate)',\n",
    "                     'RACE: Asian alone: Total population -- (Estimate)',\n",
    "                     'RACE: Native Hawaiian and Other Pacific Islander alone: Total population -- (Estimate)',\n",
    "                     'RACE: Some other race alone: Total population -- (Estimate)',\n",
    "                     'RACE: Two or more races: Total population -- (Estimate)',\n",
    "                     'RACE: Two or more races: Two races including Some other race: Total population -- (Estimate)',\n",
    "                     'HISPANIC OR LATINO ORIGIN BY RACE: Hispanic or Latino: Total population -- (Estimate)',\n",
    "                     'HISPANIC OR LATINO ORIGIN BY RACE: Hispanic or Latino: White alone: Total population -- (Estimate)']]\n",
    "demog_race.head()"
   ]
  },
  {
   "cell_type": "code",
   "execution_count": null,
   "metadata": {},
   "outputs": [],
   "source": [
    "#renaming columns\n",
    "\n",
    "demog_race = demog_race.rename(columns={'RACE: Total: Total population -- (Estimate)': 'total_block_pop', \n",
    "                                        'RACE: Two or more races: Two races excluding Some other race, and three or more races: Total population -- (Estimate)': 'two+_1',\n",
    "                                        'RACE: White alone: Total population -- (Estimate)': 'white',\n",
    "                                        'RACE: Black or African American alone: Total population -- (Estimate)': 'black',\n",
    "                                        'RACE: American Indian and Alaska Native alone: Total population -- (Estimate)': 'native_american_/_alaskan_native',\n",
    "                                        'RACE: Asian alone: Total population -- (Estimate)': 'asian',\n",
    "                                        'RACE: Native Hawaiian and Other Pacific Islander alone: Total population -- (Estimate)': 'pacific_islander_/_native_hawaiian',\n",
    "                                        'RACE: Some other race alone: Total population -- (Estimate)': 'other',\n",
    "                                        'RACE: Two or more races: Total population -- (Estimate)': 'two+_2',\n",
    "                                        'RACE: Two or more races: Two races including Some other race: Total population -- (Estimate)': 'two+_3',\n",
    "                                        'HISPANIC OR LATINO ORIGIN BY RACE: Hispanic or Latino: Total population -- (Estimate)': 'hispanic',\n",
    "                                        'HISPANIC OR LATINO ORIGIN BY RACE: Hispanic or Latino: White alone: Total population -- (Estimate)': 'hispanic - white'})\n",
    "\n",
    "demog_race.head()"
   ]
  },
  {
   "cell_type": "code",
   "execution_count": null,
   "metadata": {},
   "outputs": [],
   "source": [
    "#upon further evaluation, a couple coulmns were not necessary\n",
    "\n",
    "demog_race = demog_race.drop(['two+_1', 'two+_3'], axis=1)\n",
    "demog_race.head()"
   ]
  },
  {
   "cell_type": "code",
   "execution_count": null,
   "metadata": {},
   "outputs": [],
   "source": [
    "demog_race = demog_race.rename(columns = {'two+_2': 'more_than_one_race'})\n",
    "demog_race.head()"
   ]
  },
  {
   "cell_type": "code",
   "execution_count": null,
   "metadata": {},
   "outputs": [],
   "source": [
    "#adding percentages. important to note that 'non-white' might not equal up to the other minorities because we're tacking on\n",
    "#all of the times people identify as both hispanic and white. \n",
    "\n",
    "demog_race['%white'] = demog_race['white'] / demog_race['total_block_pop']\n",
    "demog_race['%black'] = demog_race['black'] / demog_race['total_block_pop']\n",
    "demog_race['%hisp'] = demog_race['hispanic'] / demog_race['total_block_pop']\n",
    "demog_race['%non-white'] = (demog_race['total_block_pop'] - demog_race['white'] + demog_race['hispanic - white']) / demog_race['total_block_pop']\n",
    "\n",
    "demog_race.head()"
   ]
  },
  {
   "cell_type": "code",
   "execution_count": null,
   "metadata": {},
   "outputs": [],
   "source": [
    "demog_income = demog2[['HOUSEHOLD INCOME IN THE PAST 12 MONTHS (IN 2016 INFLATION-ADJUSTED DOLLARS): $200,000 or more: Households -- (Estimate)',\n",
    "                       'HOUSEHOLD INCOME IN THE PAST 12 MONTHS (IN 2016 INFLATION-ADJUSTED DOLLARS): Less than $10,000: Households -- (Estimate)',\n",
    "                       'HOUSEHOLD INCOME IN THE PAST 12 MONTHS (IN 2016 INFLATION-ADJUSTED DOLLARS): $10,000 to $14,999: Households -- (Estimate)',\n",
    "                       'HOUSEHOLD INCOME IN THE PAST 12 MONTHS (IN 2016 INFLATION-ADJUSTED DOLLARS): Total: Households -- (Estimate)',\n",
    "                       'HOUSEHOLD INCOME IN THE PAST 12 MONTHS (IN 2016 INFLATION-ADJUSTED DOLLARS): $45,000 to $49,999: Households -- (Estimate)',\n",
    "                       'HOUSEHOLD INCOME IN THE PAST 12 MONTHS (IN 2016 INFLATION-ADJUSTED DOLLARS): $50,000 to $59,999: Households -- (Estimate)',\n",
    "                       'HOUSEHOLD INCOME IN THE PAST 12 MONTHS (IN 2016 INFLATION-ADJUSTED DOLLARS): $60,000 to $74,999: Households -- (Estimate)',\n",
    "                       'HOUSEHOLD INCOME IN THE PAST 12 MONTHS (IN 2016 INFLATION-ADJUSTED DOLLARS): $75,000 to $99,999: Households -- (Estimate)',\n",
    "                       'HOUSEHOLD INCOME IN THE PAST 12 MONTHS (IN 2016 INFLATION-ADJUSTED DOLLARS): $100,000 to $124,999: Households -- (Estimate)',\n",
    "                       'HOUSEHOLD INCOME IN THE PAST 12 MONTHS (IN 2016 INFLATION-ADJUSTED DOLLARS): $125,000 to $149,999: Households -- (Estimate)',\n",
    "                       'HOUSEHOLD INCOME IN THE PAST 12 MONTHS (IN 2016 INFLATION-ADJUSTED DOLLARS): $150,000 to $199,999: Households -- (Estimate)',\n",
    "                       'HOUSEHOLD INCOME IN THE PAST 12 MONTHS (IN 2016 INFLATION-ADJUSTED DOLLARS): $15,000 to $19,999: Households -- (Estimate)',\n",
    "                       'HOUSEHOLD INCOME IN THE PAST 12 MONTHS (IN 2016 INFLATION-ADJUSTED DOLLARS): $20,000 to $24,999: Households -- (Estimate)',\n",
    "                       'HOUSEHOLD INCOME IN THE PAST 12 MONTHS (IN 2016 INFLATION-ADJUSTED DOLLARS): $25,000 to $29,999: Households -- (Estimate)',\n",
    "                       'HOUSEHOLD INCOME IN THE PAST 12 MONTHS (IN 2016 INFLATION-ADJUSTED DOLLARS): $30,000 to $34,999: Households -- (Estimate)',\n",
    "                       'HOUSEHOLD INCOME IN THE PAST 12 MONTHS (IN 2016 INFLATION-ADJUSTED DOLLARS): $35,000 to $39,999: Households -- (Estimate)',\n",
    "                       'HOUSEHOLD INCOME IN THE PAST 12 MONTHS (IN 2016 INFLATION-ADJUSTED DOLLARS): $40,000 to $44,999: Households -- (Estimate)']]\n",
    "demog_income.head()"
   ]
  },
  {
   "cell_type": "code",
   "execution_count": null,
   "metadata": {},
   "outputs": [],
   "source": [
    "#beautifying\n",
    "\n",
    "demog_income = demog_income.rename(columns = {'HOUSEHOLD INCOME IN THE PAST 12 MONTHS (IN 2016 INFLATION-ADJUSTED DOLLARS): $200,000 or more: Households -- (Estimate)': 'hh_income_200,000+',\n",
    "                                             'HOUSEHOLD INCOME IN THE PAST 12 MONTHS (IN 2016 INFLATION-ADJUSTED DOLLARS): Less than $10,000: Households -- (Estimate)': 'hh_income_<10,000',\n",
    "                                             'HOUSEHOLD INCOME IN THE PAST 12 MONTHS (IN 2016 INFLATION-ADJUSTED DOLLARS): $10,000 to $14,999: Households -- (Estimate)': 'hh_income_10,000-14,999',\n",
    "                                             'HOUSEHOLD INCOME IN THE PAST 12 MONTHS (IN 2016 INFLATION-ADJUSTED DOLLARS): Total: Households -- (Estimate)': 'total_households',\n",
    "                                             'HOUSEHOLD INCOME IN THE PAST 12 MONTHS (IN 2016 INFLATION-ADJUSTED DOLLARS): $45,000 to $49,999: Households -- (Estimate)': 'hh_income_45,000-49,999',\n",
    "                                             'HOUSEHOLD INCOME IN THE PAST 12 MONTHS (IN 2016 INFLATION-ADJUSTED DOLLARS): $50,000 to $59,999: Households -- (Estimate)': 'hh_income_50,000-59,999',\n",
    "                                             'HOUSEHOLD INCOME IN THE PAST 12 MONTHS (IN 2016 INFLATION-ADJUSTED DOLLARS): $60,000 to $74,999: Households -- (Estimate)': 'hh_income_60,000-74,999',\n",
    "                                             'HOUSEHOLD INCOME IN THE PAST 12 MONTHS (IN 2016 INFLATION-ADJUSTED DOLLARS): $75,000 to $99,999: Households -- (Estimate)': 'hh_income_75,000-99,999',\n",
    "                                             'HOUSEHOLD INCOME IN THE PAST 12 MONTHS (IN 2016 INFLATION-ADJUSTED DOLLARS): $100,000 to $124,999: Households -- (Estimate)': 'hh_income_100,000-124,999',\n",
    "                                             'HOUSEHOLD INCOME IN THE PAST 12 MONTHS (IN 2016 INFLATION-ADJUSTED DOLLARS): $125,000 to $149,999: Households -- (Estimate)': 'hh_income_125,000-149,999',\n",
    "                                             'HOUSEHOLD INCOME IN THE PAST 12 MONTHS (IN 2016 INFLATION-ADJUSTED DOLLARS): $150,000 to $199,999: Households -- (Estimate)': 'hh_income_150,000-199,999',\n",
    "                                             'HOUSEHOLD INCOME IN THE PAST 12 MONTHS (IN 2016 INFLATION-ADJUSTED DOLLARS): $15,000 to $19,999: Households -- (Estimate)': 'hh_income_15,000-19,999',\n",
    "                                             'HOUSEHOLD INCOME IN THE PAST 12 MONTHS (IN 2016 INFLATION-ADJUSTED DOLLARS): $20,000 to $24,999: Households -- (Estimate)': 'hh_income_20,000-24,999',\n",
    "                                             'HOUSEHOLD INCOME IN THE PAST 12 MONTHS (IN 2016 INFLATION-ADJUSTED DOLLARS): $25,000 to $29,999: Households -- (Estimate)': 'hh_income_25,000-29,999',\n",
    "                                             'HOUSEHOLD INCOME IN THE PAST 12 MONTHS (IN 2016 INFLATION-ADJUSTED DOLLARS): $30,000 to $34,999: Households -- (Estimate)': 'hh_income_30,000-34,999',\n",
    "                                             'HOUSEHOLD INCOME IN THE PAST 12 MONTHS (IN 2016 INFLATION-ADJUSTED DOLLARS): $35,000 to $39,999: Households -- (Estimate)': 'hh_income_35,000-39,999',\n",
    "                                             'HOUSEHOLD INCOME IN THE PAST 12 MONTHS (IN 2016 INFLATION-ADJUSTED DOLLARS): $40,000 to $44,999: Households -- (Estimate)': 'hh_income_40,000-44,999'})\n",
    "demog_income = demog_income[['total_households', \n",
    "                             'hh_income_<10,000',\n",
    "                             'hh_income_10,000-14,999', \n",
    "                             'hh_income_15,000-19,999',\n",
    "                             'hh_income_20,000-24,999',\n",
    "                             'hh_income_25,000-29,999',\n",
    "                             'hh_income_30,000-34,999',\n",
    "                             'hh_income_35,000-39,999',\n",
    "                             'hh_income_40,000-44,999',\n",
    "                             'hh_income_45,000-49,999',\n",
    "                             'hh_income_50,000-59,999',\n",
    "                             'hh_income_60,000-74,999',\n",
    "                             'hh_income_75,000-99,999',\n",
    "                             'hh_income_100,000-124,999',\n",
    "                             'hh_income_125,000-149,999',\n",
    "                             'hh_income_150,000-199,999',\n",
    "                             'hh_income_200,000+']]\n",
    "\n",
    "demog_income.head()"
   ]
  },
  {
   "cell_type": "code",
   "execution_count": null,
   "metadata": {},
   "outputs": [],
   "source": [
    "demog_race.to_csv('..\\data\\census_data_race.csv')\n",
    "demog_income.to_csv('..\\data\\census_data_income.csv')"
   ]
  },
  {
   "cell_type": "code",
   "execution_count": null,
   "metadata": {},
   "outputs": [],
   "source": []
  }
 ],
 "metadata": {
  "kernelspec": {
   "display_name": "Python 3",
   "language": "python",
   "name": "python3"
  },
  "language_info": {
   "codemirror_mode": {
    "name": "ipython",
    "version": 3
   },
   "file_extension": ".py",
   "mimetype": "text/x-python",
   "name": "python",
   "nbconvert_exporter": "python",
   "pygments_lexer": "ipython3",
   "version": "3.7.6"
  }
 },
 "nbformat": 4,
 "nbformat_minor": 4
}
